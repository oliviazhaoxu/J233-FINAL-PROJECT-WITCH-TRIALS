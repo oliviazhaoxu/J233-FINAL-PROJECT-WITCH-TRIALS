{
 "cells": [
  {
   "cell_type": "markdown",
   "metadata": {},
   "source": [
    "# 02 Trend Across Time"
   ]
  },
  {
   "cell_type": "markdown",
   "metadata": {},
   "source": [
    "## import modules and dataset"
   ]
  },
  {
   "cell_type": "code",
   "execution_count": 1,
   "metadata": {},
   "outputs": [
    {
     "data": {
      "text/plain": [
       "RendererRegistry.enable('jupyterlab')"
      ]
     },
     "execution_count": 1,
     "metadata": {},
     "output_type": "execute_result"
    }
   ],
   "source": [
    "import pandas as pd\n",
    "import altair as alt\n",
    "alt.renderers.enable('jupyterlab')"
   ]
  },
  {
   "cell_type": "code",
   "execution_count": 2,
   "metadata": {},
   "outputs": [
    {
     "data": {
      "text/html": [
       "<div>\n",
       "<style scoped>\n",
       "    .dataframe tbody tr th:only-of-type {\n",
       "        vertical-align: middle;\n",
       "    }\n",
       "\n",
       "    .dataframe tbody tr th {\n",
       "        vertical-align: top;\n",
       "    }\n",
       "\n",
       "    .dataframe thead th {\n",
       "        text-align: right;\n",
       "    }\n",
       "</style>\n",
       "<table border=\"1\" class=\"dataframe\">\n",
       "  <thead>\n",
       "    <tr style=\"text-align: right;\">\n",
       "      <th></th>\n",
       "      <th>year</th>\n",
       "      <th>decade</th>\n",
       "      <th>century</th>\n",
       "      <th>tried</th>\n",
       "      <th>deaths</th>\n",
       "      <th>city</th>\n",
       "      <th>gadm.adm2</th>\n",
       "      <th>gadm.adm1</th>\n",
       "      <th>gadm.adm0</th>\n",
       "      <th>lon</th>\n",
       "      <th>lat</th>\n",
       "      <th>record.source</th>\n",
       "    </tr>\n",
       "  </thead>\n",
       "  <tbody>\n",
       "    <tr>\n",
       "      <th>9050</th>\n",
       "      <td>1599.0</td>\n",
       "      <td>1590</td>\n",
       "      <td>1500</td>\n",
       "      <td>1</td>\n",
       "      <td>NaN</td>\n",
       "      <td>Gelnhausen</td>\n",
       "      <td>Darmstadt</td>\n",
       "      <td>Hessen</td>\n",
       "      <td>Germany</td>\n",
       "      <td>9.186370</td>\n",
       "      <td>50.204600</td>\n",
       "      <td>Niess (1982)</td>\n",
       "    </tr>\n",
       "    <tr>\n",
       "      <th>1205</th>\n",
       "      <td>1639.0</td>\n",
       "      <td>1630</td>\n",
       "      <td>1600</td>\n",
       "      <td>1</td>\n",
       "      <td>NaN</td>\n",
       "      <td>Rettenberg</td>\n",
       "      <td>Mittelfranken</td>\n",
       "      <td>Bayern</td>\n",
       "      <td>Germany</td>\n",
       "      <td>10.292200</td>\n",
       "      <td>47.574300</td>\n",
       "      <td>Behringer (1987)</td>\n",
       "    </tr>\n",
       "    <tr>\n",
       "      <th>10115</th>\n",
       "      <td>1669.0</td>\n",
       "      <td>1660</td>\n",
       "      <td>1600</td>\n",
       "      <td>1</td>\n",
       "      <td>NaN</td>\n",
       "      <td>NaN</td>\n",
       "      <td>Lysekil</td>\n",
       "      <td>Vastra Gotaland</td>\n",
       "      <td>Sweden</td>\n",
       "      <td>NaN</td>\n",
       "      <td>NaN</td>\n",
       "      <td>Sörlin (1999)</td>\n",
       "    </tr>\n",
       "    <tr>\n",
       "      <th>6101</th>\n",
       "      <td>NaN</td>\n",
       "      <td>1620</td>\n",
       "      <td>1600</td>\n",
       "      <td>3</td>\n",
       "      <td>2.0</td>\n",
       "      <td>Uberherrn</td>\n",
       "      <td>Saarland</td>\n",
       "      <td>Saarland</td>\n",
       "      <td>Germany</td>\n",
       "      <td>6.700610</td>\n",
       "      <td>49.239200</td>\n",
       "      <td>Hiegel (1961)</td>\n",
       "    </tr>\n",
       "    <tr>\n",
       "      <th>5486</th>\n",
       "      <td>1662.0</td>\n",
       "      <td>1660</td>\n",
       "      <td>1600</td>\n",
       "      <td>1</td>\n",
       "      <td>0.0</td>\n",
       "      <td>NaN</td>\n",
       "      <td>East Lothian</td>\n",
       "      <td>Scotland</td>\n",
       "      <td>United Kingdom</td>\n",
       "      <td>NaN</td>\n",
       "      <td>NaN</td>\n",
       "      <td>Goodare et al. (2003)</td>\n",
       "    </tr>\n",
       "    <tr>\n",
       "      <th>8660</th>\n",
       "      <td>1599.0</td>\n",
       "      <td>1590</td>\n",
       "      <td>1500</td>\n",
       "      <td>1</td>\n",
       "      <td>0.0</td>\n",
       "      <td>Neuchatel</td>\n",
       "      <td>Neuchatel</td>\n",
       "      <td>Neuchatel</td>\n",
       "      <td>Switzerland</td>\n",
       "      <td>6.931930</td>\n",
       "      <td>46.993000</td>\n",
       "      <td>Monter (1976)</td>\n",
       "    </tr>\n",
       "    <tr>\n",
       "      <th>2409</th>\n",
       "      <td>1335.0</td>\n",
       "      <td>1330</td>\n",
       "      <td>1300</td>\n",
       "      <td>1</td>\n",
       "      <td>1.0</td>\n",
       "      <td>Carcassonne</td>\n",
       "      <td>Aude</td>\n",
       "      <td>Languedoc-Roussillon</td>\n",
       "      <td>France</td>\n",
       "      <td>2.353663</td>\n",
       "      <td>43.212161</td>\n",
       "      <td>Carlson (2004)</td>\n",
       "    </tr>\n",
       "    <tr>\n",
       "      <th>4858</th>\n",
       "      <td>1650.0</td>\n",
       "      <td>1650</td>\n",
       "      <td>1600</td>\n",
       "      <td>1</td>\n",
       "      <td>0.0</td>\n",
       "      <td>NaN</td>\n",
       "      <td>East Lothian</td>\n",
       "      <td>Scotland</td>\n",
       "      <td>United Kingdom</td>\n",
       "      <td>NaN</td>\n",
       "      <td>NaN</td>\n",
       "      <td>Goodare et al. (2003)</td>\n",
       "    </tr>\n",
       "    <tr>\n",
       "      <th>6895</th>\n",
       "      <td>1562.0</td>\n",
       "      <td>1560</td>\n",
       "      <td>1500</td>\n",
       "      <td>3</td>\n",
       "      <td>2.0</td>\n",
       "      <td>Sindelfingen</td>\n",
       "      <td>Stuttgart</td>\n",
       "      <td>Baden-Wurttemberg</td>\n",
       "      <td>Germany</td>\n",
       "      <td>9.004410</td>\n",
       "      <td>48.707500</td>\n",
       "      <td>Midelfort (1972)</td>\n",
       "    </tr>\n",
       "    <tr>\n",
       "      <th>10709</th>\n",
       "      <td>1610.0</td>\n",
       "      <td>1610</td>\n",
       "      <td>1600</td>\n",
       "      <td>1</td>\n",
       "      <td>0.0</td>\n",
       "      <td>Haarlem</td>\n",
       "      <td>Haarlem</td>\n",
       "      <td>Noord-Holland</td>\n",
       "      <td>Netherlands</td>\n",
       "      <td>NaN</td>\n",
       "      <td>NaN</td>\n",
       "      <td>Waardt (1991)</td>\n",
       "    </tr>\n",
       "    <tr>\n",
       "      <th>601</th>\n",
       "      <td>1504.0</td>\n",
       "      <td>1500</td>\n",
       "      <td>1500</td>\n",
       "      <td>1</td>\n",
       "      <td>NaN</td>\n",
       "      <td>Markt Schwaben</td>\n",
       "      <td>Mittelfranken</td>\n",
       "      <td>Bayern</td>\n",
       "      <td>Germany</td>\n",
       "      <td>11.863000</td>\n",
       "      <td>48.190900</td>\n",
       "      <td>Behringer (1987)</td>\n",
       "    </tr>\n",
       "    <tr>\n",
       "      <th>7742</th>\n",
       "      <td>1684.0</td>\n",
       "      <td>1680</td>\n",
       "      <td>1600</td>\n",
       "      <td>1</td>\n",
       "      <td>NaN</td>\n",
       "      <td>Balingen</td>\n",
       "      <td>Tubingen</td>\n",
       "      <td>Baden-Wurttemberg</td>\n",
       "      <td>Germany</td>\n",
       "      <td>8.849530</td>\n",
       "      <td>48.274800</td>\n",
       "      <td>Midelfort (1972)</td>\n",
       "    </tr>\n",
       "    <tr>\n",
       "      <th>8400</th>\n",
       "      <td>1579.0</td>\n",
       "      <td>1570</td>\n",
       "      <td>1500</td>\n",
       "      <td>1</td>\n",
       "      <td>0.0</td>\n",
       "      <td>Geneva</td>\n",
       "      <td>Geneve</td>\n",
       "      <td>Geneve</td>\n",
       "      <td>Switzerland</td>\n",
       "      <td>6.142300</td>\n",
       "      <td>46.198400</td>\n",
       "      <td>Monter (1976)</td>\n",
       "    </tr>\n",
       "    <tr>\n",
       "      <th>744</th>\n",
       "      <td>1590.0</td>\n",
       "      <td>1590</td>\n",
       "      <td>1500</td>\n",
       "      <td>1</td>\n",
       "      <td>NaN</td>\n",
       "      <td>Abensberg</td>\n",
       "      <td>Mittelfranken</td>\n",
       "      <td>Bayern</td>\n",
       "      <td>Germany</td>\n",
       "      <td>11.850800</td>\n",
       "      <td>48.817700</td>\n",
       "      <td>Behringer (1987)</td>\n",
       "    </tr>\n",
       "    <tr>\n",
       "      <th>3298</th>\n",
       "      <td>1619.0</td>\n",
       "      <td>1610</td>\n",
       "      <td>1600</td>\n",
       "      <td>1</td>\n",
       "      <td>NaN</td>\n",
       "      <td>NaN</td>\n",
       "      <td>NaN</td>\n",
       "      <td>Scotland</td>\n",
       "      <td>United Kingdom</td>\n",
       "      <td>NaN</td>\n",
       "      <td>NaN</td>\n",
       "      <td>Goodare et al. (2003)</td>\n",
       "    </tr>\n",
       "    <tr>\n",
       "      <th>3843</th>\n",
       "      <td>1634.0</td>\n",
       "      <td>1630</td>\n",
       "      <td>1600</td>\n",
       "      <td>1</td>\n",
       "      <td>0.0</td>\n",
       "      <td>NaN</td>\n",
       "      <td>Scottish Borders</td>\n",
       "      <td>Scotland</td>\n",
       "      <td>United Kingdom</td>\n",
       "      <td>NaN</td>\n",
       "      <td>NaN</td>\n",
       "      <td>Goodare et al. (2003)</td>\n",
       "    </tr>\n",
       "    <tr>\n",
       "      <th>1548</th>\n",
       "      <td>1688.0</td>\n",
       "      <td>1680</td>\n",
       "      <td>1600</td>\n",
       "      <td>1</td>\n",
       "      <td>0.0</td>\n",
       "      <td>Neuotting</td>\n",
       "      <td>Mittelfranken</td>\n",
       "      <td>Bayern</td>\n",
       "      <td>Germany</td>\n",
       "      <td>12.689600</td>\n",
       "      <td>48.241300</td>\n",
       "      <td>Behringer (1987)</td>\n",
       "    </tr>\n",
       "    <tr>\n",
       "      <th>5059</th>\n",
       "      <td>1661.0</td>\n",
       "      <td>1660</td>\n",
       "      <td>1600</td>\n",
       "      <td>1</td>\n",
       "      <td>0.0</td>\n",
       "      <td>NaN</td>\n",
       "      <td>Angus</td>\n",
       "      <td>Scotland</td>\n",
       "      <td>United Kingdom</td>\n",
       "      <td>NaN</td>\n",
       "      <td>NaN</td>\n",
       "      <td>Goodare et al. (2003)</td>\n",
       "    </tr>\n",
       "    <tr>\n",
       "      <th>9268</th>\n",
       "      <td>1634.0</td>\n",
       "      <td>1630</td>\n",
       "      <td>1600</td>\n",
       "      <td>1</td>\n",
       "      <td>NaN</td>\n",
       "      <td>Budingen</td>\n",
       "      <td>Darmstadt</td>\n",
       "      <td>Hessen</td>\n",
       "      <td>Germany</td>\n",
       "      <td>9.111380</td>\n",
       "      <td>50.286300</td>\n",
       "      <td>Niess (1982)</td>\n",
       "    </tr>\n",
       "    <tr>\n",
       "      <th>6023</th>\n",
       "      <td>NaN</td>\n",
       "      <td>1610</td>\n",
       "      <td>1600</td>\n",
       "      <td>1</td>\n",
       "      <td>NaN</td>\n",
       "      <td>Erratzu</td>\n",
       "      <td>Navarra</td>\n",
       "      <td>Comunidad Foral de Navarra</td>\n",
       "      <td>Spain</td>\n",
       "      <td>-1.456790</td>\n",
       "      <td>43.182300</td>\n",
       "      <td>Henningsen (1980)</td>\n",
       "    </tr>\n",
       "  </tbody>\n",
       "</table>\n",
       "</div>"
      ],
      "text/plain": [
       "         year  decade  century  tried  deaths            city  \\\n",
       "9050   1599.0    1590     1500      1     NaN      Gelnhausen   \n",
       "1205   1639.0    1630     1600      1     NaN      Rettenberg   \n",
       "10115  1669.0    1660     1600      1     NaN             NaN   \n",
       "6101      NaN    1620     1600      3     2.0       Uberherrn   \n",
       "5486   1662.0    1660     1600      1     0.0             NaN   \n",
       "8660   1599.0    1590     1500      1     0.0       Neuchatel   \n",
       "2409   1335.0    1330     1300      1     1.0     Carcassonne   \n",
       "4858   1650.0    1650     1600      1     0.0             NaN   \n",
       "6895   1562.0    1560     1500      3     2.0    Sindelfingen   \n",
       "10709  1610.0    1610     1600      1     0.0         Haarlem   \n",
       "601    1504.0    1500     1500      1     NaN  Markt Schwaben   \n",
       "7742   1684.0    1680     1600      1     NaN        Balingen   \n",
       "8400   1579.0    1570     1500      1     0.0          Geneva   \n",
       "744    1590.0    1590     1500      1     NaN       Abensberg   \n",
       "3298   1619.0    1610     1600      1     NaN             NaN   \n",
       "3843   1634.0    1630     1600      1     0.0             NaN   \n",
       "1548   1688.0    1680     1600      1     0.0       Neuotting   \n",
       "5059   1661.0    1660     1600      1     0.0             NaN   \n",
       "9268   1634.0    1630     1600      1     NaN        Budingen   \n",
       "6023      NaN    1610     1600      1     NaN         Erratzu   \n",
       "\n",
       "              gadm.adm2                   gadm.adm1       gadm.adm0  \\\n",
       "9050          Darmstadt                      Hessen         Germany   \n",
       "1205      Mittelfranken                      Bayern         Germany   \n",
       "10115           Lysekil             Vastra Gotaland          Sweden   \n",
       "6101           Saarland                    Saarland         Germany   \n",
       "5486       East Lothian                    Scotland  United Kingdom   \n",
       "8660          Neuchatel                   Neuchatel     Switzerland   \n",
       "2409               Aude        Languedoc-Roussillon          France   \n",
       "4858       East Lothian                    Scotland  United Kingdom   \n",
       "6895          Stuttgart           Baden-Wurttemberg         Germany   \n",
       "10709           Haarlem               Noord-Holland     Netherlands   \n",
       "601       Mittelfranken                      Bayern         Germany   \n",
       "7742           Tubingen           Baden-Wurttemberg         Germany   \n",
       "8400             Geneve                      Geneve     Switzerland   \n",
       "744       Mittelfranken                      Bayern         Germany   \n",
       "3298                NaN                    Scotland  United Kingdom   \n",
       "3843   Scottish Borders                    Scotland  United Kingdom   \n",
       "1548      Mittelfranken                      Bayern         Germany   \n",
       "5059              Angus                    Scotland  United Kingdom   \n",
       "9268          Darmstadt                      Hessen         Germany   \n",
       "6023            Navarra  Comunidad Foral de Navarra           Spain   \n",
       "\n",
       "             lon        lat          record.source  \n",
       "9050    9.186370  50.204600           Niess (1982)  \n",
       "1205   10.292200  47.574300       Behringer (1987)  \n",
       "10115        NaN        NaN          Sörlin (1999)  \n",
       "6101    6.700610  49.239200          Hiegel (1961)  \n",
       "5486         NaN        NaN  Goodare et al. (2003)  \n",
       "8660    6.931930  46.993000          Monter (1976)  \n",
       "2409    2.353663  43.212161         Carlson (2004)  \n",
       "4858         NaN        NaN  Goodare et al. (2003)  \n",
       "6895    9.004410  48.707500       Midelfort (1972)  \n",
       "10709        NaN        NaN          Waardt (1991)  \n",
       "601    11.863000  48.190900       Behringer (1987)  \n",
       "7742    8.849530  48.274800       Midelfort (1972)  \n",
       "8400    6.142300  46.198400          Monter (1976)  \n",
       "744    11.850800  48.817700       Behringer (1987)  \n",
       "3298         NaN        NaN  Goodare et al. (2003)  \n",
       "3843         NaN        NaN  Goodare et al. (2003)  \n",
       "1548   12.689600  48.241300       Behringer (1987)  \n",
       "5059         NaN        NaN  Goodare et al. (2003)  \n",
       "9268    9.111380  50.286300           Niess (1982)  \n",
       "6023   -1.456790  43.182300      Henningsen (1980)  "
      ]
     },
     "execution_count": 2,
     "metadata": {},
     "output_type": "execute_result"
    }
   ],
   "source": [
    "trials_clean = pd.read_csv('./export/trials_clean.csv')\n",
    "trials_clean.sample(20)"
   ]
  },
  {
   "cell_type": "markdown",
   "metadata": {},
   "source": [
    "### First glance: total casualty\n",
    "In this dataset:"
   ]
  },
  {
   "cell_type": "code",
   "execution_count": 3,
   "metadata": {},
   "outputs": [
    {
     "data": {
      "text/plain": [
       "43240"
      ]
     },
     "execution_count": 3,
     "metadata": {},
     "output_type": "execute_result"
    }
   ],
   "source": [
    "# how many people are tried in total\n",
    "# df.sum(axis=0) Summing columns, or summing across rows, set axis=0\n",
    "trials_clean['tried'].sum(axis=0)"
   ]
  },
  {
   "cell_type": "code",
   "execution_count": 4,
   "metadata": {},
   "outputs": [
    {
     "data": {
      "text/plain": [
       "16333.0"
      ]
     },
     "execution_count": 4,
     "metadata": {},
     "output_type": "execute_result"
    }
   ],
   "source": [
    "# how many people are killed in total\n",
    "trials_clean['deaths'].sum(axis=0)"
   ]
  },
  {
   "cell_type": "markdown",
   "metadata": {},
   "source": [
    "So this is just a subset of the people tried and persecuted during the witch trial. According to [Wikipedia's Witch Trials in the early modern period](https://en.wikipedia.org/wiki/Witch_trials_in_the_early_modern_period), between 1400 to 1782, around 40,000 to 60,000 people were killed due to suspicion that they were practicing witchcraft. Some sources estimate that a total of 100,000 trials occurred at its maximum for a similar period."
   ]
  },
  {
   "cell_type": "markdown",
   "metadata": {},
   "source": [
    "## Q1: What time period (century/decade/year) witnessed the peak of witch trials?"
   ]
  },
  {
   "cell_type": "markdown",
   "metadata": {},
   "source": [
    "### Witch Trials by century - line chart"
   ]
  },
  {
   "cell_type": "code",
   "execution_count": 5,
   "metadata": {},
   "outputs": [
    {
     "data": {
      "text/html": [
       "<div>\n",
       "<style scoped>\n",
       "    .dataframe tbody tr th:only-of-type {\n",
       "        vertical-align: middle;\n",
       "    }\n",
       "\n",
       "    .dataframe tbody tr th {\n",
       "        vertical-align: top;\n",
       "    }\n",
       "\n",
       "    .dataframe thead th {\n",
       "        text-align: right;\n",
       "    }\n",
       "</style>\n",
       "<table border=\"1\" class=\"dataframe\">\n",
       "  <thead>\n",
       "    <tr style=\"text-align: right;\">\n",
       "      <th></th>\n",
       "      <th>century</th>\n",
       "      <th>trials_count</th>\n",
       "    </tr>\n",
       "  </thead>\n",
       "  <tbody>\n",
       "    <tr>\n",
       "      <th>0</th>\n",
       "      <td>1300</td>\n",
       "      <td>150</td>\n",
       "    </tr>\n",
       "    <tr>\n",
       "      <th>1</th>\n",
       "      <td>1400</td>\n",
       "      <td>607</td>\n",
       "    </tr>\n",
       "    <tr>\n",
       "      <th>2</th>\n",
       "      <td>1500</td>\n",
       "      <td>2364</td>\n",
       "    </tr>\n",
       "    <tr>\n",
       "      <th>3</th>\n",
       "      <td>1600</td>\n",
       "      <td>7164</td>\n",
       "    </tr>\n",
       "    <tr>\n",
       "      <th>4</th>\n",
       "      <td>1700</td>\n",
       "      <td>652</td>\n",
       "    </tr>\n",
       "    <tr>\n",
       "      <th>5</th>\n",
       "      <td>1800</td>\n",
       "      <td>3</td>\n",
       "    </tr>\n",
       "  </tbody>\n",
       "</table>\n",
       "</div>"
      ],
      "text/plain": [
       "   century  trials_count\n",
       "0     1300           150\n",
       "1     1400           607\n",
       "2     1500          2364\n",
       "3     1600          7164\n",
       "4     1700           652\n",
       "5     1800             3"
      ]
     },
     "execution_count": 5,
     "metadata": {},
     "output_type": "execute_result"
    }
   ],
   "source": [
    "# Group by century \n",
    "trials_by_century = trials_clean.groupby([pd.Grouper(key='century')]).count()[['tried']].reset_index()\n",
    "\n",
    "# rename the columns\n",
    "trials_by_century.columns = ['century', 'trials_count']\n",
    "trials_by_century"
   ]
  },
  {
   "cell_type": "code",
   "execution_count": 6,
   "metadata": {},
   "outputs": [
    {
     "name": "stderr",
     "output_type": "stream",
     "text": [
      "/Users/direwolfsummer/.pyenv/versions/3.9.4/envs/j233-files-3.9.4/lib/python3.9/site-packages/altair/utils/core.py:317: FutureWarning: iteritems is deprecated and will be removed in a future version. Use .items instead.\n",
      "  for col_name, dtype in df.dtypes.iteritems():\n"
     ]
    },
    {
     "data": {
      "application/vnd.vegalite.v4+json": {
       "$schema": "https://vega.github.io/schema/vega-lite/v4.17.0.json",
       "config": {
        "view": {
         "continuousHeight": 300,
         "continuousWidth": 400
        }
       },
       "data": {
        "name": "data-95c2681c836b8837a427f6e8cddf528f"
       },
       "datasets": {
        "data-95c2681c836b8837a427f6e8cddf528f": [
         {
          "century": 1300,
          "trials_count": 150
         },
         {
          "century": 1400,
          "trials_count": 607
         },
         {
          "century": 1500,
          "trials_count": 2364
         },
         {
          "century": 1600,
          "trials_count": 7164
         },
         {
          "century": 1700,
          "trials_count": 652
         },
         {
          "century": 1800,
          "trials_count": 3
         }
        ]
       },
       "encoding": {
        "x": {
         "field": "century",
         "type": "quantitative"
        },
        "y": {
         "field": "trials_count",
         "type": "quantitative"
        }
       },
       "mark": "line",
       "title": {
        "text": "Witch Trials by century"
       }
      },
      "text/plain": [
       "<VegaLite 4 object>\n",
       "\n",
       "If you see this message, it means the renderer has not been properly enabled\n",
       "for the frontend that you are using. For more information, see\n",
       "https://altair-viz.github.io/user_guide/troubleshooting.html\n"
      ]
     },
     "execution_count": 6,
     "metadata": {},
     "output_type": "execute_result"
    }
   ],
   "source": [
    "# line chart by altair\n",
    "alt.Chart(trials_by_century).mark_line().encode(\n",
    "    x=alt.X('century'),\n",
    "    y=alt.Y('trials_count'),\n",
    ").properties(\n",
    "    title={\n",
    "        'text': 'Witch Trials by century',\n",
    "    }\n",
    ")"
   ]
  },
  {
   "cell_type": "markdown",
   "metadata": {},
   "source": [
    "#### The zenith between 1560 and 1630\n",
    "The period between 1560 and 1630 was known as the 'Great Hunt', when 60% of the prosecution took place. Over the course of a century and a half, 80,000 people were tried for witchcraft and half of them were executed, often burned alive. This time period coincided with the Counter-Reformation and the European wars of religion. [Economists Peter T. Leeson and Jake Russ argued](https://www.peterleeson.com/witch_trials.pdf) that the surgence of European witch trials reflected non-price competition between the Catholic and Protestant churches for religious market share in confessionally contested parts of Christendom."
   ]
  },
  {
   "cell_type": "markdown",
   "metadata": {},
   "source": [
    "Simply put, as competing Catholic and Protestant churches vied to win over or retain their followers, they needed to make an impact – and witch trials were the battleground they chose ([the Guardian](https://www.theguardian.com/society/2018/jan/07/witchcraft-economics-reformation-catholic-protestant-market-share))."
   ]
  },
  {
   "cell_type": "markdown",
   "metadata": {},
   "source": [
    "### Witch Trials By Decade - line chart"
   ]
  },
  {
   "cell_type": "code",
   "execution_count": 7,
   "metadata": {},
   "outputs": [
    {
     "data": {
      "text/html": [
       "<div>\n",
       "<style scoped>\n",
       "    .dataframe tbody tr th:only-of-type {\n",
       "        vertical-align: middle;\n",
       "    }\n",
       "\n",
       "    .dataframe tbody tr th {\n",
       "        vertical-align: top;\n",
       "    }\n",
       "\n",
       "    .dataframe thead th {\n",
       "        text-align: right;\n",
       "    }\n",
       "</style>\n",
       "<table border=\"1\" class=\"dataframe\">\n",
       "  <thead>\n",
       "    <tr style=\"text-align: right;\">\n",
       "      <th></th>\n",
       "      <th>decade</th>\n",
       "      <th>trials_count</th>\n",
       "    </tr>\n",
       "  </thead>\n",
       "  <tbody>\n",
       "    <tr>\n",
       "      <th>0</th>\n",
       "      <td>1300</td>\n",
       "      <td>11</td>\n",
       "    </tr>\n",
       "    <tr>\n",
       "      <th>1</th>\n",
       "      <td>1310</td>\n",
       "      <td>21</td>\n",
       "    </tr>\n",
       "    <tr>\n",
       "      <th>2</th>\n",
       "      <td>1320</td>\n",
       "      <td>21</td>\n",
       "    </tr>\n",
       "    <tr>\n",
       "      <th>3</th>\n",
       "      <td>1330</td>\n",
       "      <td>25</td>\n",
       "    </tr>\n",
       "    <tr>\n",
       "      <th>4</th>\n",
       "      <td>1340</td>\n",
       "      <td>8</td>\n",
       "    </tr>\n",
       "    <tr>\n",
       "      <th>5</th>\n",
       "      <td>1350</td>\n",
       "      <td>4</td>\n",
       "    </tr>\n",
       "    <tr>\n",
       "      <th>6</th>\n",
       "      <td>1360</td>\n",
       "      <td>3</td>\n",
       "    </tr>\n",
       "    <tr>\n",
       "      <th>7</th>\n",
       "      <td>1370</td>\n",
       "      <td>15</td>\n",
       "    </tr>\n",
       "    <tr>\n",
       "      <th>8</th>\n",
       "      <td>1380</td>\n",
       "      <td>17</td>\n",
       "    </tr>\n",
       "    <tr>\n",
       "      <th>9</th>\n",
       "      <td>1390</td>\n",
       "      <td>25</td>\n",
       "    </tr>\n",
       "    <tr>\n",
       "      <th>10</th>\n",
       "      <td>1400</td>\n",
       "      <td>32</td>\n",
       "    </tr>\n",
       "    <tr>\n",
       "      <th>11</th>\n",
       "      <td>1410</td>\n",
       "      <td>20</td>\n",
       "    </tr>\n",
       "    <tr>\n",
       "      <th>12</th>\n",
       "      <td>1420</td>\n",
       "      <td>35</td>\n",
       "    </tr>\n",
       "    <tr>\n",
       "      <th>13</th>\n",
       "      <td>1430</td>\n",
       "      <td>52</td>\n",
       "    </tr>\n",
       "    <tr>\n",
       "      <th>14</th>\n",
       "      <td>1440</td>\n",
       "      <td>57</td>\n",
       "    </tr>\n",
       "    <tr>\n",
       "      <th>15</th>\n",
       "      <td>1450</td>\n",
       "      <td>90</td>\n",
       "    </tr>\n",
       "    <tr>\n",
       "      <th>16</th>\n",
       "      <td>1460</td>\n",
       "      <td>65</td>\n",
       "    </tr>\n",
       "    <tr>\n",
       "      <th>17</th>\n",
       "      <td>1470</td>\n",
       "      <td>68</td>\n",
       "    </tr>\n",
       "    <tr>\n",
       "      <th>18</th>\n",
       "      <td>1480</td>\n",
       "      <td>101</td>\n",
       "    </tr>\n",
       "    <tr>\n",
       "      <th>19</th>\n",
       "      <td>1490</td>\n",
       "      <td>87</td>\n",
       "    </tr>\n",
       "    <tr>\n",
       "      <th>20</th>\n",
       "      <td>1500</td>\n",
       "      <td>39</td>\n",
       "    </tr>\n",
       "    <tr>\n",
       "      <th>21</th>\n",
       "      <td>1510</td>\n",
       "      <td>43</td>\n",
       "    </tr>\n",
       "    <tr>\n",
       "      <th>22</th>\n",
       "      <td>1520</td>\n",
       "      <td>64</td>\n",
       "    </tr>\n",
       "    <tr>\n",
       "      <th>23</th>\n",
       "      <td>1530</td>\n",
       "      <td>73</td>\n",
       "    </tr>\n",
       "    <tr>\n",
       "      <th>24</th>\n",
       "      <td>1540</td>\n",
       "      <td>106</td>\n",
       "    </tr>\n",
       "    <tr>\n",
       "      <th>25</th>\n",
       "      <td>1550</td>\n",
       "      <td>111</td>\n",
       "    </tr>\n",
       "    <tr>\n",
       "      <th>26</th>\n",
       "      <td>1560</td>\n",
       "      <td>309</td>\n",
       "    </tr>\n",
       "    <tr>\n",
       "      <th>27</th>\n",
       "      <td>1570</td>\n",
       "      <td>291</td>\n",
       "    </tr>\n",
       "    <tr>\n",
       "      <th>28</th>\n",
       "      <td>1580</td>\n",
       "      <td>373</td>\n",
       "    </tr>\n",
       "    <tr>\n",
       "      <th>29</th>\n",
       "      <td>1590</td>\n",
       "      <td>955</td>\n",
       "    </tr>\n",
       "    <tr>\n",
       "      <th>30</th>\n",
       "      <td>1600</td>\n",
       "      <td>621</td>\n",
       "    </tr>\n",
       "    <tr>\n",
       "      <th>31</th>\n",
       "      <td>1610</td>\n",
       "      <td>878</td>\n",
       "    </tr>\n",
       "    <tr>\n",
       "      <th>32</th>\n",
       "      <td>1620</td>\n",
       "      <td>934</td>\n",
       "    </tr>\n",
       "    <tr>\n",
       "      <th>33</th>\n",
       "      <td>1630</td>\n",
       "      <td>724</td>\n",
       "    </tr>\n",
       "    <tr>\n",
       "      <th>34</th>\n",
       "      <td>1640</td>\n",
       "      <td>1111</td>\n",
       "    </tr>\n",
       "    <tr>\n",
       "      <th>35</th>\n",
       "      <td>1650</td>\n",
       "      <td>872</td>\n",
       "    </tr>\n",
       "    <tr>\n",
       "      <th>36</th>\n",
       "      <td>1660</td>\n",
       "      <td>1050</td>\n",
       "    </tr>\n",
       "    <tr>\n",
       "      <th>37</th>\n",
       "      <td>1670</td>\n",
       "      <td>419</td>\n",
       "    </tr>\n",
       "    <tr>\n",
       "      <th>38</th>\n",
       "      <td>1680</td>\n",
       "      <td>260</td>\n",
       "    </tr>\n",
       "    <tr>\n",
       "      <th>39</th>\n",
       "      <td>1690</td>\n",
       "      <td>295</td>\n",
       "    </tr>\n",
       "    <tr>\n",
       "      <th>40</th>\n",
       "      <td>1700</td>\n",
       "      <td>195</td>\n",
       "    </tr>\n",
       "    <tr>\n",
       "      <th>41</th>\n",
       "      <td>1710</td>\n",
       "      <td>107</td>\n",
       "    </tr>\n",
       "    <tr>\n",
       "      <th>42</th>\n",
       "      <td>1720</td>\n",
       "      <td>105</td>\n",
       "    </tr>\n",
       "    <tr>\n",
       "      <th>43</th>\n",
       "      <td>1730</td>\n",
       "      <td>68</td>\n",
       "    </tr>\n",
       "    <tr>\n",
       "      <th>44</th>\n",
       "      <td>1740</td>\n",
       "      <td>89</td>\n",
       "    </tr>\n",
       "    <tr>\n",
       "      <th>45</th>\n",
       "      <td>1750</td>\n",
       "      <td>62</td>\n",
       "    </tr>\n",
       "    <tr>\n",
       "      <th>46</th>\n",
       "      <td>1760</td>\n",
       "      <td>8</td>\n",
       "    </tr>\n",
       "    <tr>\n",
       "      <th>47</th>\n",
       "      <td>1770</td>\n",
       "      <td>11</td>\n",
       "    </tr>\n",
       "    <tr>\n",
       "      <th>48</th>\n",
       "      <td>1780</td>\n",
       "      <td>3</td>\n",
       "    </tr>\n",
       "    <tr>\n",
       "      <th>49</th>\n",
       "      <td>1790</td>\n",
       "      <td>4</td>\n",
       "    </tr>\n",
       "    <tr>\n",
       "      <th>50</th>\n",
       "      <td>1820</td>\n",
       "      <td>1</td>\n",
       "    </tr>\n",
       "    <tr>\n",
       "      <th>51</th>\n",
       "      <td>1830</td>\n",
       "      <td>1</td>\n",
       "    </tr>\n",
       "    <tr>\n",
       "      <th>52</th>\n",
       "      <td>1850</td>\n",
       "      <td>1</td>\n",
       "    </tr>\n",
       "  </tbody>\n",
       "</table>\n",
       "</div>"
      ],
      "text/plain": [
       "    decade  trials_count\n",
       "0     1300            11\n",
       "1     1310            21\n",
       "2     1320            21\n",
       "3     1330            25\n",
       "4     1340             8\n",
       "5     1350             4\n",
       "6     1360             3\n",
       "7     1370            15\n",
       "8     1380            17\n",
       "9     1390            25\n",
       "10    1400            32\n",
       "11    1410            20\n",
       "12    1420            35\n",
       "13    1430            52\n",
       "14    1440            57\n",
       "15    1450            90\n",
       "16    1460            65\n",
       "17    1470            68\n",
       "18    1480           101\n",
       "19    1490            87\n",
       "20    1500            39\n",
       "21    1510            43\n",
       "22    1520            64\n",
       "23    1530            73\n",
       "24    1540           106\n",
       "25    1550           111\n",
       "26    1560           309\n",
       "27    1570           291\n",
       "28    1580           373\n",
       "29    1590           955\n",
       "30    1600           621\n",
       "31    1610           878\n",
       "32    1620           934\n",
       "33    1630           724\n",
       "34    1640          1111\n",
       "35    1650           872\n",
       "36    1660          1050\n",
       "37    1670           419\n",
       "38    1680           260\n",
       "39    1690           295\n",
       "40    1700           195\n",
       "41    1710           107\n",
       "42    1720           105\n",
       "43    1730            68\n",
       "44    1740            89\n",
       "45    1750            62\n",
       "46    1760             8\n",
       "47    1770            11\n",
       "48    1780             3\n",
       "49    1790             4\n",
       "50    1820             1\n",
       "51    1830             1\n",
       "52    1850             1"
      ]
     },
     "execution_count": 7,
     "metadata": {},
     "output_type": "execute_result"
    }
   ],
   "source": [
    "# Group by decade \n",
    "trials_by_decade = trials_clean.groupby([pd.Grouper(key='decade')]).count()[['tried']].reset_index()\n",
    "\n",
    "# rename the columns\n",
    "trials_by_decade.columns = ['decade', 'trials_count']\n",
    "trials_by_decade"
   ]
  },
  {
   "cell_type": "code",
   "execution_count": 8,
   "metadata": {},
   "outputs": [
    {
     "name": "stderr",
     "output_type": "stream",
     "text": [
      "/Users/direwolfsummer/.pyenv/versions/3.9.4/envs/j233-files-3.9.4/lib/python3.9/site-packages/altair/utils/core.py:317: FutureWarning: iteritems is deprecated and will be removed in a future version. Use .items instead.\n",
      "  for col_name, dtype in df.dtypes.iteritems():\n"
     ]
    },
    {
     "data": {
      "application/vnd.vegalite.v4+json": {
       "$schema": "https://vega.github.io/schema/vega-lite/v4.17.0.json",
       "config": {
        "view": {
         "continuousHeight": 300,
         "continuousWidth": 400
        }
       },
       "data": {
        "name": "data-bfc456aac8ede9b0302ae77c58368398"
       },
       "datasets": {
        "data-bfc456aac8ede9b0302ae77c58368398": [
         {
          "decade": 1300,
          "trials_count": 11
         },
         {
          "decade": 1310,
          "trials_count": 21
         },
         {
          "decade": 1320,
          "trials_count": 21
         },
         {
          "decade": 1330,
          "trials_count": 25
         },
         {
          "decade": 1340,
          "trials_count": 8
         },
         {
          "decade": 1350,
          "trials_count": 4
         },
         {
          "decade": 1360,
          "trials_count": 3
         },
         {
          "decade": 1370,
          "trials_count": 15
         },
         {
          "decade": 1380,
          "trials_count": 17
         },
         {
          "decade": 1390,
          "trials_count": 25
         },
         {
          "decade": 1400,
          "trials_count": 32
         },
         {
          "decade": 1410,
          "trials_count": 20
         },
         {
          "decade": 1420,
          "trials_count": 35
         },
         {
          "decade": 1430,
          "trials_count": 52
         },
         {
          "decade": 1440,
          "trials_count": 57
         },
         {
          "decade": 1450,
          "trials_count": 90
         },
         {
          "decade": 1460,
          "trials_count": 65
         },
         {
          "decade": 1470,
          "trials_count": 68
         },
         {
          "decade": 1480,
          "trials_count": 101
         },
         {
          "decade": 1490,
          "trials_count": 87
         },
         {
          "decade": 1500,
          "trials_count": 39
         },
         {
          "decade": 1510,
          "trials_count": 43
         },
         {
          "decade": 1520,
          "trials_count": 64
         },
         {
          "decade": 1530,
          "trials_count": 73
         },
         {
          "decade": 1540,
          "trials_count": 106
         },
         {
          "decade": 1550,
          "trials_count": 111
         },
         {
          "decade": 1560,
          "trials_count": 309
         },
         {
          "decade": 1570,
          "trials_count": 291
         },
         {
          "decade": 1580,
          "trials_count": 373
         },
         {
          "decade": 1590,
          "trials_count": 955
         },
         {
          "decade": 1600,
          "trials_count": 621
         },
         {
          "decade": 1610,
          "trials_count": 878
         },
         {
          "decade": 1620,
          "trials_count": 934
         },
         {
          "decade": 1630,
          "trials_count": 724
         },
         {
          "decade": 1640,
          "trials_count": 1111
         },
         {
          "decade": 1650,
          "trials_count": 872
         },
         {
          "decade": 1660,
          "trials_count": 1050
         },
         {
          "decade": 1670,
          "trials_count": 419
         },
         {
          "decade": 1680,
          "trials_count": 260
         },
         {
          "decade": 1690,
          "trials_count": 295
         },
         {
          "decade": 1700,
          "trials_count": 195
         },
         {
          "decade": 1710,
          "trials_count": 107
         },
         {
          "decade": 1720,
          "trials_count": 105
         },
         {
          "decade": 1730,
          "trials_count": 68
         },
         {
          "decade": 1740,
          "trials_count": 89
         },
         {
          "decade": 1750,
          "trials_count": 62
         },
         {
          "decade": 1760,
          "trials_count": 8
         },
         {
          "decade": 1770,
          "trials_count": 11
         },
         {
          "decade": 1780,
          "trials_count": 3
         },
         {
          "decade": 1790,
          "trials_count": 4
         },
         {
          "decade": 1820,
          "trials_count": 1
         },
         {
          "decade": 1830,
          "trials_count": 1
         },
         {
          "decade": 1850,
          "trials_count": 1
         }
        ]
       },
       "encoding": {
        "x": {
         "field": "decade",
         "type": "quantitative"
        },
        "y": {
         "field": "trials_count",
         "type": "quantitative"
        }
       },
       "mark": "line",
       "title": {
        "text": "Witch Trials by decade"
       }
      },
      "text/plain": [
       "<VegaLite 4 object>\n",
       "\n",
       "If you see this message, it means the renderer has not been properly enabled\n",
       "for the frontend that you are using. For more information, see\n",
       "https://altair-viz.github.io/user_guide/troubleshooting.html\n"
      ]
     },
     "execution_count": 8,
     "metadata": {},
     "output_type": "execute_result"
    }
   ],
   "source": [
    "# line chart by altair\n",
    "alt.Chart(trials_by_decade).mark_line().encode(\n",
    "    x=alt.X('decade'),\n",
    "    y=alt.Y('trials_count'),\n",
    ").properties(\n",
    "    title={\n",
    "        'text': 'Witch Trials by decade',\n",
    "    }\n",
    ")"
   ]
  },
  {
   "cell_type": "markdown",
   "metadata": {},
   "source": [
    "### Witch Trials By Year - line chart"
   ]
  },
  {
   "cell_type": "code",
   "execution_count": 9,
   "metadata": {},
   "outputs": [],
   "source": [
    "# Group by year \n",
    "trials_by_year = trials_clean.groupby([pd.Grouper(key='year')]).count()[['tried']].reset_index()\n",
    "\n",
    "# rename the columns\n",
    "trials_by_year.columns = ['year', 'trials_count']"
   ]
  },
  {
   "cell_type": "code",
   "execution_count": 10,
   "metadata": {},
   "outputs": [
    {
     "name": "stderr",
     "output_type": "stream",
     "text": [
      "/Users/direwolfsummer/.pyenv/versions/3.9.4/envs/j233-files-3.9.4/lib/python3.9/site-packages/altair/utils/core.py:317: FutureWarning: iteritems is deprecated and will be removed in a future version. Use .items instead.\n",
      "  for col_name, dtype in df.dtypes.iteritems():\n"
     ]
    },
    {
     "data": {
      "application/vnd.vegalite.v4+json": {
       "$schema": "https://vega.github.io/schema/vega-lite/v4.17.0.json",
       "config": {
        "view": {
         "continuousHeight": 300,
         "continuousWidth": 400
        }
       },
       "data": {
        "name": "data-08df12d23ec4384797a07fe7003b2d29"
       },
       "datasets": {
        "data-08df12d23ec4384797a07fe7003b2d29": [
         {
          "trials_count": 2,
          "year": 1300
         },
         {
          "trials_count": 1,
          "year": 1301
         },
         {
          "trials_count": 2,
          "year": 1302
         },
         {
          "trials_count": 1,
          "year": 1303
         },
         {
          "trials_count": 1,
          "year": 1304
         },
         {
          "trials_count": 1,
          "year": 1306
         },
         {
          "trials_count": 1,
          "year": 1307
         },
         {
          "trials_count": 2,
          "year": 1308
         },
         {
          "trials_count": 1,
          "year": 1310
         },
         {
          "trials_count": 1,
          "year": 1311
         },
         {
          "trials_count": 4,
          "year": 1314
         },
         {
          "trials_count": 4,
          "year": 1315
         },
         {
          "trials_count": 2,
          "year": 1316
         },
         {
          "trials_count": 3,
          "year": 1317
         },
         {
          "trials_count": 2,
          "year": 1318
         },
         {
          "trials_count": 4,
          "year": 1319
         },
         {
          "trials_count": 2,
          "year": 1320
         },
         {
          "trials_count": 1,
          "year": 1321
         },
         {
          "trials_count": 2,
          "year": 1322
         },
         {
          "trials_count": 4,
          "year": 1323
         },
         {
          "trials_count": 1,
          "year": 1324
         },
         {
          "trials_count": 1,
          "year": 1325
         },
         {
          "trials_count": 6,
          "year": 1326
         },
         {
          "trials_count": 3,
          "year": 1327
         },
         {
          "trials_count": 1,
          "year": 1329
         },
         {
          "trials_count": 4,
          "year": 1330
         },
         {
          "trials_count": 6,
          "year": 1331
         },
         {
          "trials_count": 5,
          "year": 1335
         },
         {
          "trials_count": 5,
          "year": 1336
         },
         {
          "trials_count": 2,
          "year": 1337
         },
         {
          "trials_count": 2,
          "year": 1338
         },
         {
          "trials_count": 1,
          "year": 1339
         },
         {
          "trials_count": 3,
          "year": 1340
         },
         {
          "trials_count": 1,
          "year": 1343
         },
         {
          "trials_count": 2,
          "year": 1347
         },
         {
          "trials_count": 2,
          "year": 1349
         },
         {
          "trials_count": 1,
          "year": 1350
         },
         {
          "trials_count": 2,
          "year": 1353
         },
         {
          "trials_count": 1,
          "year": 1360
         },
         {
          "trials_count": 1,
          "year": 1366
         },
         {
          "trials_count": 5,
          "year": 1371
         },
         {
          "trials_count": 2,
          "year": 1372
         },
         {
          "trials_count": 1,
          "year": 1373
         },
         {
          "trials_count": 3,
          "year": 1375
         },
         {
          "trials_count": 1,
          "year": 1376
         },
         {
          "trials_count": 2,
          "year": 1379
         },
         {
          "trials_count": 1,
          "year": 1380
         },
         {
          "trials_count": 1,
          "year": 1381
         },
         {
          "trials_count": 2,
          "year": 1383
         },
         {
          "trials_count": 3,
          "year": 1384
         },
         {
          "trials_count": 4,
          "year": 1385
         },
         {
          "trials_count": 2,
          "year": 1386
         },
         {
          "trials_count": 1,
          "year": 1387
         },
         {
          "trials_count": 1,
          "year": 1388
         },
         {
          "trials_count": 1,
          "year": 1389
         },
         {
          "trials_count": 6,
          "year": 1390
         },
         {
          "trials_count": 4,
          "year": 1392
         },
         {
          "trials_count": 1,
          "year": 1393
         },
         {
          "trials_count": 1,
          "year": 1394
         },
         {
          "trials_count": 1,
          "year": 1395
         },
         {
          "trials_count": 2,
          "year": 1396
         },
         {
          "trials_count": 3,
          "year": 1397
         },
         {
          "trials_count": 2,
          "year": 1398
         },
         {
          "trials_count": 4,
          "year": 1399
         },
         {
          "trials_count": 3,
          "year": 1400
         },
         {
          "trials_count": 6,
          "year": 1401
         },
         {
          "trials_count": 1,
          "year": 1402
         },
         {
          "trials_count": 5,
          "year": 1404
         },
         {
          "trials_count": 5,
          "year": 1406
         },
         {
          "trials_count": 3,
          "year": 1407
         },
         {
          "trials_count": 1,
          "year": 1408
         },
         {
          "trials_count": 3,
          "year": 1409
         },
         {
          "trials_count": 2,
          "year": 1410
         },
         {
          "trials_count": 1,
          "year": 1412
         },
         {
          "trials_count": 1,
          "year": 1414
         },
         {
          "trials_count": 1,
          "year": 1415
         },
         {
          "trials_count": 2,
          "year": 1416
         },
         {
          "trials_count": 5,
          "year": 1417
         },
         {
          "trials_count": 3,
          "year": 1419
         },
         {
          "trials_count": 5,
          "year": 1420
         },
         {
          "trials_count": 4,
          "year": 1421
         },
         {
          "trials_count": 1,
          "year": 1422
         },
         {
          "trials_count": 6,
          "year": 1423
         },
         {
          "trials_count": 3,
          "year": 1424
         },
         {
          "trials_count": 3,
          "year": 1426
         },
         {
          "trials_count": 4,
          "year": 1427
         },
         {
          "trials_count": 4,
          "year": 1428
         },
         {
          "trials_count": 6,
          "year": 1430
         },
         {
          "trials_count": 3,
          "year": 1431
         },
         {
          "trials_count": 4,
          "year": 1432
         },
         {
          "trials_count": 5,
          "year": 1433
         },
         {
          "trials_count": 2,
          "year": 1434
         },
         {
          "trials_count": 5,
          "year": 1435
         },
         {
          "trials_count": 3,
          "year": 1436
         },
         {
          "trials_count": 7,
          "year": 1437
         },
         {
          "trials_count": 8,
          "year": 1438
         },
         {
          "trials_count": 3,
          "year": 1439
         },
         {
          "trials_count": 4,
          "year": 1440
         },
         {
          "trials_count": 3,
          "year": 1441
         },
         {
          "trials_count": 2,
          "year": 1442
         },
         {
          "trials_count": 7,
          "year": 1444
         },
         {
          "trials_count": 4,
          "year": 1445
         },
         {
          "trials_count": 9,
          "year": 1446
         },
         {
          "trials_count": 6,
          "year": 1447
         },
         {
          "trials_count": 10,
          "year": 1448
         },
         {
          "trials_count": 5,
          "year": 1449
         },
         {
          "trials_count": 13,
          "year": 1450
         },
         {
          "trials_count": 4,
          "year": 1451
         },
         {
          "trials_count": 4,
          "year": 1452
         },
         {
          "trials_count": 8,
          "year": 1453
         },
         {
          "trials_count": 7,
          "year": 1454
         },
         {
          "trials_count": 6,
          "year": 1455
         },
         {
          "trials_count": 8,
          "year": 1456
         },
         {
          "trials_count": 10,
          "year": 1457
         },
         {
          "trials_count": 9,
          "year": 1458
         },
         {
          "trials_count": 11,
          "year": 1459
         },
         {
          "trials_count": 9,
          "year": 1460
         },
         {
          "trials_count": 4,
          "year": 1461
         },
         {
          "trials_count": 5,
          "year": 1462
         },
         {
          "trials_count": 2,
          "year": 1463
         },
         {
          "trials_count": 2,
          "year": 1464
         },
         {
          "trials_count": 3,
          "year": 1465
         },
         {
          "trials_count": 7,
          "year": 1466
         },
         {
          "trials_count": 6,
          "year": 1467
         },
         {
          "trials_count": 13,
          "year": 1468
         },
         {
          "trials_count": 5,
          "year": 1469
         },
         {
          "trials_count": 7,
          "year": 1470
         },
         {
          "trials_count": 5,
          "year": 1471
         },
         {
          "trials_count": 7,
          "year": 1472
         },
         {
          "trials_count": 3,
          "year": 1473
         },
         {
          "trials_count": 3,
          "year": 1474
         },
         {
          "trials_count": 3,
          "year": 1475
         },
         {
          "trials_count": 6,
          "year": 1476
         },
         {
          "trials_count": 11,
          "year": 1477
         },
         {
          "trials_count": 7,
          "year": 1478
         },
         {
          "trials_count": 6,
          "year": 1479
         },
         {
          "trials_count": 14,
          "year": 1480
         },
         {
          "trials_count": 10,
          "year": 1481
         },
         {
          "trials_count": 18,
          "year": 1482
         },
         {
          "trials_count": 6,
          "year": 1483
         },
         {
          "trials_count": 5,
          "year": 1484
         },
         {
          "trials_count": 8,
          "year": 1485
         },
         {
          "trials_count": 8,
          "year": 1486
         },
         {
          "trials_count": 4,
          "year": 1487
         },
         {
          "trials_count": 8,
          "year": 1488
         },
         {
          "trials_count": 9,
          "year": 1489
         },
         {
          "trials_count": 10,
          "year": 1490
         },
         {
          "trials_count": 11,
          "year": 1491
         },
         {
          "trials_count": 3,
          "year": 1492
         },
         {
          "trials_count": 11,
          "year": 1493
         },
         {
          "trials_count": 6,
          "year": 1494
         },
         {
          "trials_count": 8,
          "year": 1495
         },
         {
          "trials_count": 4,
          "year": 1496
         },
         {
          "trials_count": 7,
          "year": 1497
         },
         {
          "trials_count": 7,
          "year": 1498
         },
         {
          "trials_count": 9,
          "year": 1499
         },
         {
          "trials_count": 4,
          "year": 1500
         },
         {
          "trials_count": 6,
          "year": 1502
         },
         {
          "trials_count": 1,
          "year": 1503
         },
         {
          "trials_count": 3,
          "year": 1504
         },
         {
          "trials_count": 2,
          "year": 1505
         },
         {
          "trials_count": 3,
          "year": 1507
         },
         {
          "trials_count": 2,
          "year": 1508
         },
         {
          "trials_count": 5,
          "year": 1509
         },
         {
          "trials_count": 7,
          "year": 1510
         },
         {
          "trials_count": 4,
          "year": 1511
         },
         {
          "trials_count": 2,
          "year": 1512
         },
         {
          "trials_count": 1,
          "year": 1513
         },
         {
          "trials_count": 3,
          "year": 1514
         },
         {
          "trials_count": 2,
          "year": 1515
         },
         {
          "trials_count": 1,
          "year": 1516
         },
         {
          "trials_count": 6,
          "year": 1517
         },
         {
          "trials_count": 4,
          "year": 1518
         },
         {
          "trials_count": 3,
          "year": 1520
         },
         {
          "trials_count": 5,
          "year": 1521
         },
         {
          "trials_count": 5,
          "year": 1522
         },
         {
          "trials_count": 2,
          "year": 1523
         },
         {
          "trials_count": 12,
          "year": 1524
         },
         {
          "trials_count": 1,
          "year": 1525
         },
         {
          "trials_count": 2,
          "year": 1526
         },
         {
          "trials_count": 6,
          "year": 1527
         },
         {
          "trials_count": 7,
          "year": 1528
         },
         {
          "trials_count": 5,
          "year": 1529
         },
         {
          "trials_count": 11,
          "year": 1530
         },
         {
          "trials_count": 1,
          "year": 1531
         },
         {
          "trials_count": 7,
          "year": 1532
         },
         {
          "trials_count": 10,
          "year": 1533
         },
         {
          "trials_count": 3,
          "year": 1534
         },
         {
          "trials_count": 2,
          "year": 1535
         },
         {
          "trials_count": 1,
          "year": 1536
         },
         {
          "trials_count": 3,
          "year": 1537
         },
         {
          "trials_count": 12,
          "year": 1538
         },
         {
          "trials_count": 8,
          "year": 1539
         },
         {
          "trials_count": 9,
          "year": 1540
         },
         {
          "trials_count": 12,
          "year": 1541
         },
         {
          "trials_count": 5,
          "year": 1542
         },
         {
          "trials_count": 6,
          "year": 1543
         },
         {
          "trials_count": 7,
          "year": 1544
         },
         {
          "trials_count": 16,
          "year": 1545
         },
         {
          "trials_count": 12,
          "year": 1546
         },
         {
          "trials_count": 5,
          "year": 1547
         },
         {
          "trials_count": 3,
          "year": 1548
         },
         {
          "trials_count": 15,
          "year": 1549
         },
         {
          "trials_count": 16,
          "year": 1550
         },
         {
          "trials_count": 11,
          "year": 1551
         },
         {
          "trials_count": 6,
          "year": 1552
         },
         {
          "trials_count": 8,
          "year": 1553
         },
         {
          "trials_count": 6,
          "year": 1554
         },
         {
          "trials_count": 7,
          "year": 1555
         },
         {
          "trials_count": 12,
          "year": 1556
         },
         {
          "trials_count": 10,
          "year": 1557
         },
         {
          "trials_count": 8,
          "year": 1558
         },
         {
          "trials_count": 7,
          "year": 1559
         },
         {
          "trials_count": 17,
          "year": 1560
         },
         {
          "trials_count": 19,
          "year": 1561
         },
         {
          "trials_count": 53,
          "year": 1562
         },
         {
          "trials_count": 24,
          "year": 1563
         },
         {
          "trials_count": 29,
          "year": 1564
         },
         {
          "trials_count": 17,
          "year": 1565
         },
         {
          "trials_count": 16,
          "year": 1566
         },
         {
          "trials_count": 29,
          "year": 1567
         },
         {
          "trials_count": 58,
          "year": 1568
         },
         {
          "trials_count": 21,
          "year": 1569
         },
         {
          "trials_count": 20,
          "year": 1570
         },
         {
          "trials_count": 14,
          "year": 1571
         },
         {
          "trials_count": 15,
          "year": 1572
         },
         {
          "trials_count": 16,
          "year": 1573
         },
         {
          "trials_count": 26,
          "year": 1574
         },
         {
          "trials_count": 32,
          "year": 1575
         },
         {
          "trials_count": 25,
          "year": 1576
         },
         {
          "trials_count": 47,
          "year": 1577
         },
         {
          "trials_count": 19,
          "year": 1578
         },
         {
          "trials_count": 31,
          "year": 1579
         },
         {
          "trials_count": 38,
          "year": 1580
         },
         {
          "trials_count": 15,
          "year": 1581
         },
         {
          "trials_count": 18,
          "year": 1582
         },
         {
          "trials_count": 36,
          "year": 1583
         },
         {
          "trials_count": 24,
          "year": 1584
         },
         {
          "trials_count": 40,
          "year": 1585
         },
         {
          "trials_count": 25,
          "year": 1586
         },
         {
          "trials_count": 30,
          "year": 1587
         },
         {
          "trials_count": 25,
          "year": 1588
         },
         {
          "trials_count": 49,
          "year": 1589
         },
         {
          "trials_count": 126,
          "year": 1590
         },
         {
          "trials_count": 116,
          "year": 1591
         },
         {
          "trials_count": 76,
          "year": 1592
         },
         {
          "trials_count": 35,
          "year": 1593
         },
         {
          "trials_count": 28,
          "year": 1594
         },
         {
          "trials_count": 48,
          "year": 1595
         },
         {
          "trials_count": 116,
          "year": 1596
         },
         {
          "trials_count": 204,
          "year": 1597
         },
         {
          "trials_count": 63,
          "year": 1598
         },
         {
          "trials_count": 66,
          "year": 1599
         },
         {
          "trials_count": 37,
          "year": 1600
         },
         {
          "trials_count": 72,
          "year": 1601
         },
         {
          "trials_count": 39,
          "year": 1602
         },
         {
          "trials_count": 59,
          "year": 1603
         },
         {
          "trials_count": 46,
          "year": 1604
         },
         {
          "trials_count": 57,
          "year": 1605
         },
         {
          "trials_count": 42,
          "year": 1606
         },
         {
          "trials_count": 43,
          "year": 1607
         },
         {
          "trials_count": 73,
          "year": 1608
         },
         {
          "trials_count": 70,
          "year": 1609
         },
         {
          "trials_count": 83,
          "year": 1610
         },
         {
          "trials_count": 70,
          "year": 1611
         },
         {
          "trials_count": 76,
          "year": 1612
         },
         {
          "trials_count": 83,
          "year": 1613
         },
         {
          "trials_count": 63,
          "year": 1614
         },
         {
          "trials_count": 99,
          "year": 1615
         },
         {
          "trials_count": 107,
          "year": 1616
         },
         {
          "trials_count": 46,
          "year": 1617
         },
         {
          "trials_count": 80,
          "year": 1618
         },
         {
          "trials_count": 61,
          "year": 1619
         },
         {
          "trials_count": 65,
          "year": 1620
         },
         {
          "trials_count": 50,
          "year": 1621
         },
         {
          "trials_count": 46,
          "year": 1622
         },
         {
          "trials_count": 66,
          "year": 1623
         },
         {
          "trials_count": 63,
          "year": 1624
         },
         {
          "trials_count": 31,
          "year": 1625
         },
         {
          "trials_count": 76,
          "year": 1626
         },
         {
          "trials_count": 52,
          "year": 1627
         },
         {
          "trials_count": 167,
          "year": 1628
         },
         {
          "trials_count": 239,
          "year": 1629
         },
         {
          "trials_count": 174,
          "year": 1630
         },
         {
          "trials_count": 62,
          "year": 1631
         },
         {
          "trials_count": 51,
          "year": 1632
         },
         {
          "trials_count": 145,
          "year": 1633
         },
         {
          "trials_count": 113,
          "year": 1634
         },
         {
          "trials_count": 26,
          "year": 1635
         },
         {
          "trials_count": 40,
          "year": 1636
         },
         {
          "trials_count": 35,
          "year": 1637
         },
         {
          "trials_count": 17,
          "year": 1638
         },
         {
          "trials_count": 17,
          "year": 1639
         },
         {
          "trials_count": 37,
          "year": 1640
         },
         {
          "trials_count": 36,
          "year": 1641
         },
         {
          "trials_count": 48,
          "year": 1642
         },
         {
          "trials_count": 135,
          "year": 1643
         },
         {
          "trials_count": 91,
          "year": 1644
         },
         {
          "trials_count": 143,
          "year": 1645
         },
         {
          "trials_count": 61,
          "year": 1646
         },
         {
          "trials_count": 61,
          "year": 1647
         },
         {
          "trials_count": 30,
          "year": 1648
         },
         {
          "trials_count": 436,
          "year": 1649
         },
         {
          "trials_count": 253,
          "year": 1650
         },
         {
          "trials_count": 44,
          "year": 1651
         },
         {
          "trials_count": 115,
          "year": 1652
         },
         {
          "trials_count": 56,
          "year": 1653
         },
         {
          "trials_count": 27,
          "year": 1654
         },
         {
          "trials_count": 43,
          "year": 1655
         },
         {
          "trials_count": 24,
          "year": 1656
         },
         {
          "trials_count": 41,
          "year": 1657
         },
         {
          "trials_count": 112,
          "year": 1658
         },
         {
          "trials_count": 122,
          "year": 1659
         },
         {
          "trials_count": 54,
          "year": 1660
         },
         {
          "trials_count": 271,
          "year": 1661
         },
         {
          "trials_count": 428,
          "year": 1662
         },
         {
          "trials_count": 52,
          "year": 1663
         },
         {
          "trials_count": 41,
          "year": 1664
         },
         {
          "trials_count": 51,
          "year": 1665
         },
         {
          "trials_count": 32,
          "year": 1666
         },
         {
          "trials_count": 33,
          "year": 1667
         },
         {
          "trials_count": 25,
          "year": 1668
         },
         {
          "trials_count": 36,
          "year": 1669
         },
         {
          "trials_count": 69,
          "year": 1670
         },
         {
          "trials_count": 46,
          "year": 1671
         },
         {
          "trials_count": 31,
          "year": 1672
         },
         {
          "trials_count": 19,
          "year": 1673
         },
         {
          "trials_count": 25,
          "year": 1674
         },
         {
          "trials_count": 19,
          "year": 1675
         },
         {
          "trials_count": 16,
          "year": 1676
         },
         {
          "trials_count": 47,
          "year": 1677
         },
         {
          "trials_count": 51,
          "year": 1678
         },
         {
          "trials_count": 70,
          "year": 1679
         },
         {
          "trials_count": 34,
          "year": 1680
         },
         {
          "trials_count": 29,
          "year": 1681
         },
         {
          "trials_count": 27,
          "year": 1682
         },
         {
          "trials_count": 28,
          "year": 1683
         },
         {
          "trials_count": 19,
          "year": 1684
         },
         {
          "trials_count": 22,
          "year": 1685
         },
         {
          "trials_count": 19,
          "year": 1686
         },
         {
          "trials_count": 26,
          "year": 1687
         },
         {
          "trials_count": 22,
          "year": 1688
         },
         {
          "trials_count": 9,
          "year": 1689
         },
         {
          "trials_count": 22,
          "year": 1690
         },
         {
          "trials_count": 13,
          "year": 1691
         },
         {
          "trials_count": 24,
          "year": 1692
         },
         {
          "trials_count": 16,
          "year": 1693
         },
         {
          "trials_count": 15,
          "year": 1694
         },
         {
          "trials_count": 35,
          "year": 1695
         },
         {
          "trials_count": 20,
          "year": 1696
         },
         {
          "trials_count": 42,
          "year": 1697
         },
         {
          "trials_count": 22,
          "year": 1698
         },
         {
          "trials_count": 60,
          "year": 1699
         },
         {
          "trials_count": 57,
          "year": 1700
         },
         {
          "trials_count": 20,
          "year": 1701
         },
         {
          "trials_count": 19,
          "year": 1702
         },
         {
          "trials_count": 14,
          "year": 1703
         },
         {
          "trials_count": 20,
          "year": 1704
         },
         {
          "trials_count": 12,
          "year": 1705
         },
         {
          "trials_count": 11,
          "year": 1706
         },
         {
          "trials_count": 9,
          "year": 1707
         },
         {
          "trials_count": 12,
          "year": 1708
         },
         {
          "trials_count": 10,
          "year": 1709
         },
         {
          "trials_count": 13,
          "year": 1710
         },
         {
          "trials_count": 9,
          "year": 1711
         },
         {
          "trials_count": 10,
          "year": 1712
         },
         {
          "trials_count": 8,
          "year": 1713
         },
         {
          "trials_count": 8,
          "year": 1714
         },
         {
          "trials_count": 15,
          "year": 1715
         },
         {
          "trials_count": 9,
          "year": 1716
         },
         {
          "trials_count": 3,
          "year": 1717
         },
         {
          "trials_count": 10,
          "year": 1718
         },
         {
          "trials_count": 15,
          "year": 1719
         },
         {
          "trials_count": 17,
          "year": 1720
         },
         {
          "trials_count": 14,
          "year": 1721
         },
         {
          "trials_count": 13,
          "year": 1722
         },
         {
          "trials_count": 8,
          "year": 1723
         },
         {
          "trials_count": 7,
          "year": 1724
         },
         {
          "trials_count": 2,
          "year": 1725
         },
         {
          "trials_count": 10,
          "year": 1726
         },
         {
          "trials_count": 10,
          "year": 1727
         },
         {
          "trials_count": 11,
          "year": 1728
         },
         {
          "trials_count": 6,
          "year": 1729
         },
         {
          "trials_count": 6,
          "year": 1730
         },
         {
          "trials_count": 6,
          "year": 1731
         },
         {
          "trials_count": 4,
          "year": 1732
         },
         {
          "trials_count": 7,
          "year": 1733
         },
         {
          "trials_count": 2,
          "year": 1734
         },
         {
          "trials_count": 4,
          "year": 1735
         },
         {
          "trials_count": 5,
          "year": 1736
         },
         {
          "trials_count": 11,
          "year": 1737
         },
         {
          "trials_count": 8,
          "year": 1738
         },
         {
          "trials_count": 10,
          "year": 1739
         },
         {
          "trials_count": 11,
          "year": 1740
         },
         {
          "trials_count": 6,
          "year": 1741
         },
         {
          "trials_count": 8,
          "year": 1742
         },
         {
          "trials_count": 7,
          "year": 1743
         },
         {
          "trials_count": 7,
          "year": 1744
         },
         {
          "trials_count": 9,
          "year": 1745
         },
         {
          "trials_count": 16,
          "year": 1746
         },
         {
          "trials_count": 1,
          "year": 1747
         },
         {
          "trials_count": 9,
          "year": 1748
         },
         {
          "trials_count": 10,
          "year": 1749
         },
         {
          "trials_count": 17,
          "year": 1750
         },
         {
          "trials_count": 10,
          "year": 1751
         },
         {
          "trials_count": 6,
          "year": 1752
         },
         {
          "trials_count": 11,
          "year": 1753
         },
         {
          "trials_count": 7,
          "year": 1754
         },
         {
          "trials_count": 6,
          "year": 1755
         },
         {
          "trials_count": 1,
          "year": 1756
         },
         {
          "trials_count": 1,
          "year": 1757
         },
         {
          "trials_count": 1,
          "year": 1760
         },
         {
          "trials_count": 2,
          "year": 1761
         },
         {
          "trials_count": 1,
          "year": 1762
         },
         {
          "trials_count": 1,
          "year": 1765
         },
         {
          "trials_count": 1,
          "year": 1766
         },
         {
          "trials_count": 2,
          "year": 1770
         },
         {
          "trials_count": 1,
          "year": 1771
         },
         {
          "trials_count": 1,
          "year": 1773
         },
         {
          "trials_count": 1,
          "year": 1774
         },
         {
          "trials_count": 1,
          "year": 1775
         },
         {
          "trials_count": 2,
          "year": 1777
         },
         {
          "trials_count": 1,
          "year": 1779
         },
         {
          "trials_count": 1,
          "year": 1782
         },
         {
          "trials_count": 1,
          "year": 1786
         },
         {
          "trials_count": 2,
          "year": 1790
         },
         {
          "trials_count": 1,
          "year": 1792
         },
         {
          "trials_count": 1,
          "year": 1826
         },
         {
          "trials_count": 1,
          "year": 1835
         },
         {
          "trials_count": 1,
          "year": 1850
         }
        ]
       },
       "encoding": {
        "x": {
         "field": "year",
         "type": "quantitative"
        },
        "y": {
         "field": "trials_count",
         "type": "quantitative"
        }
       },
       "mark": "line",
       "title": {
        "text": "Witch Trials by year"
       }
      },
      "text/plain": [
       "<VegaLite 4 object>\n",
       "\n",
       "If you see this message, it means the renderer has not been properly enabled\n",
       "for the frontend that you are using. For more information, see\n",
       "https://altair-viz.github.io/user_guide/troubleshooting.html\n"
      ]
     },
     "execution_count": 10,
     "metadata": {},
     "output_type": "execute_result"
    }
   ],
   "source": [
    "# line chart by altair\n",
    "alt.Chart(trials_by_year).mark_line().encode(\n",
    "    x=alt.X('year'),\n",
    "    y=alt.Y('trials_count'),\n",
    ").properties(\n",
    "    title={\n",
    "        'text': 'Witch Trials by year',\n",
    "    }\n",
    ")"
   ]
  },
  {
   "cell_type": "markdown",
   "metadata": {},
   "source": [
    "According to the data we have, the 16 century witnessed the highest witch trials count. There are 1050 cases in 1660 alone. "
   ]
  }
 ],
 "metadata": {
  "kernelspec": {
   "display_name": "Python 3.9.4 64-bit ('j233-files-3.9.4')",
   "language": "python",
   "name": "python3"
  },
  "language_info": {
   "codemirror_mode": {
    "name": "ipython",
    "version": 3
   },
   "file_extension": ".py",
   "mimetype": "text/x-python",
   "name": "python",
   "nbconvert_exporter": "python",
   "pygments_lexer": "ipython3",
   "version": "3.9.4"
  },
  "orig_nbformat": 4,
  "vscode": {
   "interpreter": {
    "hash": "784dc3cf99b8e531ca85643c898e157aa72443501a2f46bfcc61c88eb6b7abee"
   }
  }
 },
 "nbformat": 4,
 "nbformat_minor": 2
}
