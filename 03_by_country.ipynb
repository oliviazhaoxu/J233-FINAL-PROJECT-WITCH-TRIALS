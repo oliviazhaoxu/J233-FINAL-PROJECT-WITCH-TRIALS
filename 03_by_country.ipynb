{
 "cells": [
  {
   "cell_type": "markdown",
   "metadata": {},
   "source": [
    "# 03 Trend Across Country"
   ]
  },
  {
   "cell_type": "markdown",
   "metadata": {},
   "source": [
    "## import modules and dataset"
   ]
  },
  {
   "cell_type": "code",
   "execution_count": 23,
   "metadata": {},
   "outputs": [],
   "source": [
    "import pandas as pd\n",
    "import altair as alt\n",
    "# alt.renderers.enable('jupyterlab')"
   ]
  },
  {
   "cell_type": "code",
   "execution_count": 24,
   "metadata": {},
   "outputs": [],
   "source": [
    "trials_clean = pd.read_csv('./export/trials_clean.csv')"
   ]
  },
  {
   "cell_type": "markdown",
   "metadata": {},
   "source": [
    "## Q2: Which country has the most witch trial cases in total?"
   ]
  },
  {
   "cell_type": "markdown",
   "metadata": {},
   "source": [
    "### Witch Trials By Country - bar chart\n",
    "Next, we can look at which country has the largest number of witch trials"
   ]
  },
  {
   "cell_type": "code",
   "execution_count": 25,
   "metadata": {},
   "outputs": [
    {
     "data": {
      "text/html": [
       "<div>\n",
       "<style scoped>\n",
       "    .dataframe tbody tr th:only-of-type {\n",
       "        vertical-align: middle;\n",
       "    }\n",
       "\n",
       "    .dataframe tbody tr th {\n",
       "        vertical-align: top;\n",
       "    }\n",
       "\n",
       "    .dataframe thead th {\n",
       "        text-align: right;\n",
       "    }\n",
       "</style>\n",
       "<table border=\"1\" class=\"dataframe\">\n",
       "  <thead>\n",
       "    <tr style=\"text-align: right;\">\n",
       "      <th></th>\n",
       "      <th>country</th>\n",
       "      <th>trials_count</th>\n",
       "    </tr>\n",
       "  </thead>\n",
       "  <tbody>\n",
       "    <tr>\n",
       "      <th>0</th>\n",
       "      <td>Austria</td>\n",
       "      <td>16</td>\n",
       "    </tr>\n",
       "    <tr>\n",
       "      <th>1</th>\n",
       "      <td>Belgium</td>\n",
       "      <td>671</td>\n",
       "    </tr>\n",
       "    <tr>\n",
       "      <th>2</th>\n",
       "      <td>Czech Republic</td>\n",
       "      <td>1</td>\n",
       "    </tr>\n",
       "    <tr>\n",
       "      <th>3</th>\n",
       "      <td>Denmark</td>\n",
       "      <td>90</td>\n",
       "    </tr>\n",
       "    <tr>\n",
       "      <th>4</th>\n",
       "      <td>Estonia</td>\n",
       "      <td>17</td>\n",
       "    </tr>\n",
       "    <tr>\n",
       "      <th>5</th>\n",
       "      <td>Finland</td>\n",
       "      <td>17</td>\n",
       "    </tr>\n",
       "    <tr>\n",
       "      <th>6</th>\n",
       "      <td>France</td>\n",
       "      <td>807</td>\n",
       "    </tr>\n",
       "    <tr>\n",
       "      <th>7</th>\n",
       "      <td>Germany</td>\n",
       "      <td>3417</td>\n",
       "    </tr>\n",
       "    <tr>\n",
       "      <th>8</th>\n",
       "      <td>Hungary</td>\n",
       "      <td>26</td>\n",
       "    </tr>\n",
       "    <tr>\n",
       "      <th>9</th>\n",
       "      <td>Ireland</td>\n",
       "      <td>4</td>\n",
       "    </tr>\n",
       "    <tr>\n",
       "      <th>10</th>\n",
       "      <td>Italy</td>\n",
       "      <td>107</td>\n",
       "    </tr>\n",
       "    <tr>\n",
       "      <th>11</th>\n",
       "      <td>Luxembourg</td>\n",
       "      <td>20</td>\n",
       "    </tr>\n",
       "    <tr>\n",
       "      <th>12</th>\n",
       "      <td>Netherlands</td>\n",
       "      <td>314</td>\n",
       "    </tr>\n",
       "    <tr>\n",
       "      <th>13</th>\n",
       "      <td>Norway</td>\n",
       "      <td>20</td>\n",
       "    </tr>\n",
       "    <tr>\n",
       "      <th>14</th>\n",
       "      <td>Poland</td>\n",
       "      <td>9</td>\n",
       "    </tr>\n",
       "    <tr>\n",
       "      <th>15</th>\n",
       "      <td>Spain</td>\n",
       "      <td>29</td>\n",
       "    </tr>\n",
       "    <tr>\n",
       "      <th>16</th>\n",
       "      <td>Sweden</td>\n",
       "      <td>353</td>\n",
       "    </tr>\n",
       "    <tr>\n",
       "      <th>17</th>\n",
       "      <td>Switzerland</td>\n",
       "      <td>1272</td>\n",
       "    </tr>\n",
       "    <tr>\n",
       "      <th>18</th>\n",
       "      <td>United Kingdom</td>\n",
       "      <td>3750</td>\n",
       "    </tr>\n",
       "  </tbody>\n",
       "</table>\n",
       "</div>"
      ],
      "text/plain": [
       "           country  trials_count\n",
       "0          Austria            16\n",
       "1          Belgium           671\n",
       "2   Czech Republic             1\n",
       "3          Denmark            90\n",
       "4          Estonia            17\n",
       "5          Finland            17\n",
       "6           France           807\n",
       "7          Germany          3417\n",
       "8          Hungary            26\n",
       "9          Ireland             4\n",
       "10           Italy           107\n",
       "11      Luxembourg            20\n",
       "12     Netherlands           314\n",
       "13          Norway            20\n",
       "14          Poland             9\n",
       "15           Spain            29\n",
       "16          Sweden           353\n",
       "17     Switzerland          1272\n",
       "18  United Kingdom          3750"
      ]
     },
     "execution_count": 25,
     "metadata": {},
     "output_type": "execute_result"
    }
   ],
   "source": [
    "# Group by country \n",
    "trials_by_country = trials_clean.groupby([pd.Grouper(key='gadm.adm0')]).count()[['tried']].reset_index()\n",
    "\n",
    "# rename the columns\n",
    "trials_by_country.columns = ['country', 'trials_count']\n",
    "trials_by_country"
   ]
  },
  {
   "cell_type": "code",
   "execution_count": 26,
   "metadata": {},
   "outputs": [
    {
     "name": "stderr",
     "output_type": "stream",
     "text": [
      "/Users/direwolfsummer/.pyenv/versions/3.9.4/envs/j233-files-3.9.4/lib/python3.9/site-packages/altair/utils/core.py:317: FutureWarning: iteritems is deprecated and will be removed in a future version. Use .items instead.\n",
      "  for col_name, dtype in df.dtypes.iteritems():\n"
     ]
    },
    {
     "data": {
      "application/vnd.vegalite.v4+json": {
       "$schema": "https://vega.github.io/schema/vega-lite/v4.17.0.json",
       "config": {
        "view": {
         "continuousHeight": 300,
         "continuousWidth": 400
        }
       },
       "data": {
        "name": "data-ae1bbd4ebbe4e016cd4546c093a3963b"
       },
       "datasets": {
        "data-ae1bbd4ebbe4e016cd4546c093a3963b": [
         {
          "country": "Austria",
          "trials_count": 16
         },
         {
          "country": "Belgium",
          "trials_count": 671
         },
         {
          "country": "Czech Republic",
          "trials_count": 1
         },
         {
          "country": "Denmark",
          "trials_count": 90
         },
         {
          "country": "Estonia",
          "trials_count": 17
         },
         {
          "country": "Finland",
          "trials_count": 17
         },
         {
          "country": "France",
          "trials_count": 807
         },
         {
          "country": "Germany",
          "trials_count": 3417
         },
         {
          "country": "Hungary",
          "trials_count": 26
         },
         {
          "country": "Ireland",
          "trials_count": 4
         },
         {
          "country": "Italy",
          "trials_count": 107
         },
         {
          "country": "Luxembourg",
          "trials_count": 20
         },
         {
          "country": "Netherlands",
          "trials_count": 314
         },
         {
          "country": "Norway",
          "trials_count": 20
         },
         {
          "country": "Poland",
          "trials_count": 9
         },
         {
          "country": "Spain",
          "trials_count": 29
         },
         {
          "country": "Sweden",
          "trials_count": 353
         },
         {
          "country": "Switzerland",
          "trials_count": 1272
         },
         {
          "country": "United Kingdom",
          "trials_count": 3750
         }
        ]
       },
       "encoding": {
        "x": {
         "field": "country",
         "type": "nominal"
        },
        "y": {
         "field": "trials_count",
         "type": "quantitative"
        }
       },
       "mark": "bar",
       "title": {
        "text": "Witch Trials by country"
       }
      },
      "text/plain": [
       "<VegaLite 4 object>\n",
       "\n",
       "If you see this message, it means the renderer has not been properly enabled\n",
       "for the frontend that you are using. For more information, see\n",
       "https://altair-viz.github.io/user_guide/troubleshooting.html\n"
      ]
     },
     "execution_count": 26,
     "metadata": {},
     "output_type": "execute_result"
    }
   ],
   "source": [
    "# chart by altair\n",
    "alt.Chart(trials_by_country).mark_bar().encode(\n",
    "    x=alt.X('country'),\n",
    "    y=alt.Y('trials_count'),\n",
    ").properties(\n",
    "    title={\n",
    "        'text': 'Witch Trials by country',\n",
    "    }\n",
    ")"
   ]
  },
  {
   "cell_type": "markdown",
   "metadata": {},
   "source": [
    "![witch trials by country](./img/witch_trials_by_country.png)"
   ]
  },
  {
   "cell_type": "markdown",
   "metadata": {},
   "source": [
    "United Kingdom and Germany have the most witch trials by far. Together they took up 43.88% of the trials in this dataset. Let's take a closer look."
   ]
  },
  {
   "cell_type": "markdown",
   "metadata": {},
   "source": [
    "### Witch Trials in Germany"
   ]
  },
  {
   "cell_type": "code",
   "execution_count": 28,
   "metadata": {},
   "outputs": [
    {
     "data": {
      "text/html": [
       "<div>\n",
       "<style scoped>\n",
       "    .dataframe tbody tr th:only-of-type {\n",
       "        vertical-align: middle;\n",
       "    }\n",
       "\n",
       "    .dataframe tbody tr th {\n",
       "        vertical-align: top;\n",
       "    }\n",
       "\n",
       "    .dataframe thead th {\n",
       "        text-align: right;\n",
       "    }\n",
       "</style>\n",
       "<table border=\"1\" class=\"dataframe\">\n",
       "  <thead>\n",
       "    <tr style=\"text-align: right;\">\n",
       "      <th></th>\n",
       "      <th>year</th>\n",
       "      <th>decade</th>\n",
       "      <th>century</th>\n",
       "      <th>tried</th>\n",
       "      <th>deaths</th>\n",
       "      <th>city</th>\n",
       "      <th>gadm.adm2</th>\n",
       "      <th>gadm.adm1</th>\n",
       "      <th>gadm.adm0</th>\n",
       "      <th>lon</th>\n",
       "      <th>lat</th>\n",
       "      <th>record.source</th>\n",
       "    </tr>\n",
       "  </thead>\n",
       "  <tbody>\n",
       "    <tr>\n",
       "      <th>539</th>\n",
       "      <td>1500.0</td>\n",
       "      <td>1500</td>\n",
       "      <td>1500</td>\n",
       "      <td>2</td>\n",
       "      <td>NaN</td>\n",
       "      <td>Isny im Allgau</td>\n",
       "      <td>Freiburg</td>\n",
       "      <td>Baden-Wurttemberg</td>\n",
       "      <td>Germany</td>\n",
       "      <td>10.04200</td>\n",
       "      <td>47.6950</td>\n",
       "      <td>Behringer (1987)</td>\n",
       "    </tr>\n",
       "    <tr>\n",
       "      <th>540</th>\n",
       "      <td>1578.0</td>\n",
       "      <td>1570</td>\n",
       "      <td>1500</td>\n",
       "      <td>1</td>\n",
       "      <td>NaN</td>\n",
       "      <td>Isny im Allgau</td>\n",
       "      <td>Freiburg</td>\n",
       "      <td>Baden-Wurttemberg</td>\n",
       "      <td>Germany</td>\n",
       "      <td>10.04200</td>\n",
       "      <td>47.6950</td>\n",
       "      <td>Behringer (1987)</td>\n",
       "    </tr>\n",
       "    <tr>\n",
       "      <th>541</th>\n",
       "      <td>1590.0</td>\n",
       "      <td>1590</td>\n",
       "      <td>1500</td>\n",
       "      <td>6</td>\n",
       "      <td>6.0</td>\n",
       "      <td>Erolzheim</td>\n",
       "      <td>Freiburg</td>\n",
       "      <td>Baden-Wurttemberg</td>\n",
       "      <td>Germany</td>\n",
       "      <td>10.07080</td>\n",
       "      <td>48.0917</td>\n",
       "      <td>Behringer (1987)</td>\n",
       "    </tr>\n",
       "    <tr>\n",
       "      <th>542</th>\n",
       "      <td>1630.0</td>\n",
       "      <td>1630</td>\n",
       "      <td>1600</td>\n",
       "      <td>1</td>\n",
       "      <td>NaN</td>\n",
       "      <td>Heidelberg</td>\n",
       "      <td>Freiburg</td>\n",
       "      <td>Baden-Wurttemberg</td>\n",
       "      <td>Germany</td>\n",
       "      <td>8.67243</td>\n",
       "      <td>49.3988</td>\n",
       "      <td>Behringer (1987)</td>\n",
       "    </tr>\n",
       "    <tr>\n",
       "      <th>543</th>\n",
       "      <td>1640.0</td>\n",
       "      <td>1640</td>\n",
       "      <td>1600</td>\n",
       "      <td>1</td>\n",
       "      <td>NaN</td>\n",
       "      <td>Heidelberg</td>\n",
       "      <td>Freiburg</td>\n",
       "      <td>Baden-Wurttemberg</td>\n",
       "      <td>Germany</td>\n",
       "      <td>8.67243</td>\n",
       "      <td>49.3988</td>\n",
       "      <td>Behringer (1987)</td>\n",
       "    </tr>\n",
       "    <tr>\n",
       "      <th>...</th>\n",
       "      <td>...</td>\n",
       "      <td>...</td>\n",
       "      <td>...</td>\n",
       "      <td>...</td>\n",
       "      <td>...</td>\n",
       "      <td>...</td>\n",
       "      <td>...</td>\n",
       "      <td>...</td>\n",
       "      <td>...</td>\n",
       "      <td>...</td>\n",
       "      <td>...</td>\n",
       "      <td>...</td>\n",
       "    </tr>\n",
       "    <tr>\n",
       "      <th>10935</th>\n",
       "      <td>1740.0</td>\n",
       "      <td>1740</td>\n",
       "      <td>1700</td>\n",
       "      <td>2</td>\n",
       "      <td>0.0</td>\n",
       "      <td>NaN</td>\n",
       "      <td>NaN</td>\n",
       "      <td>Sachsen</td>\n",
       "      <td>Germany</td>\n",
       "      <td>NaN</td>\n",
       "      <td>NaN</td>\n",
       "      <td>Wilde (2003)</td>\n",
       "    </tr>\n",
       "    <tr>\n",
       "      <th>10936</th>\n",
       "      <td>1750.0</td>\n",
       "      <td>1750</td>\n",
       "      <td>1700</td>\n",
       "      <td>1</td>\n",
       "      <td>0.0</td>\n",
       "      <td>NaN</td>\n",
       "      <td>NaN</td>\n",
       "      <td>Sachsen</td>\n",
       "      <td>Germany</td>\n",
       "      <td>NaN</td>\n",
       "      <td>NaN</td>\n",
       "      <td>Wilde (2003)</td>\n",
       "    </tr>\n",
       "    <tr>\n",
       "      <th>10937</th>\n",
       "      <td>1760.0</td>\n",
       "      <td>1760</td>\n",
       "      <td>1700</td>\n",
       "      <td>4</td>\n",
       "      <td>0.0</td>\n",
       "      <td>NaN</td>\n",
       "      <td>NaN</td>\n",
       "      <td>Sachsen</td>\n",
       "      <td>Germany</td>\n",
       "      <td>NaN</td>\n",
       "      <td>NaN</td>\n",
       "      <td>Wilde (2003)</td>\n",
       "    </tr>\n",
       "    <tr>\n",
       "      <th>10938</th>\n",
       "      <td>1770.0</td>\n",
       "      <td>1770</td>\n",
       "      <td>1700</td>\n",
       "      <td>6</td>\n",
       "      <td>0.0</td>\n",
       "      <td>NaN</td>\n",
       "      <td>NaN</td>\n",
       "      <td>Sachsen</td>\n",
       "      <td>Germany</td>\n",
       "      <td>NaN</td>\n",
       "      <td>NaN</td>\n",
       "      <td>Wilde (2003)</td>\n",
       "    </tr>\n",
       "    <tr>\n",
       "      <th>10939</th>\n",
       "      <td>1790.0</td>\n",
       "      <td>1790</td>\n",
       "      <td>1700</td>\n",
       "      <td>1</td>\n",
       "      <td>0.0</td>\n",
       "      <td>NaN</td>\n",
       "      <td>NaN</td>\n",
       "      <td>Sachsen</td>\n",
       "      <td>Germany</td>\n",
       "      <td>NaN</td>\n",
       "      <td>NaN</td>\n",
       "      <td>Wilde (2003)</td>\n",
       "    </tr>\n",
       "  </tbody>\n",
       "</table>\n",
       "<p>3417 rows × 12 columns</p>\n",
       "</div>"
      ],
      "text/plain": [
       "         year  decade  century  tried  deaths            city gadm.adm2  \\\n",
       "539    1500.0    1500     1500      2     NaN  Isny im Allgau  Freiburg   \n",
       "540    1578.0    1570     1500      1     NaN  Isny im Allgau  Freiburg   \n",
       "541    1590.0    1590     1500      6     6.0       Erolzheim  Freiburg   \n",
       "542    1630.0    1630     1600      1     NaN      Heidelberg  Freiburg   \n",
       "543    1640.0    1640     1600      1     NaN      Heidelberg  Freiburg   \n",
       "...       ...     ...      ...    ...     ...             ...       ...   \n",
       "10935  1740.0    1740     1700      2     0.0             NaN       NaN   \n",
       "10936  1750.0    1750     1700      1     0.0             NaN       NaN   \n",
       "10937  1760.0    1760     1700      4     0.0             NaN       NaN   \n",
       "10938  1770.0    1770     1700      6     0.0             NaN       NaN   \n",
       "10939  1790.0    1790     1700      1     0.0             NaN       NaN   \n",
       "\n",
       "               gadm.adm1 gadm.adm0       lon      lat     record.source  \n",
       "539    Baden-Wurttemberg   Germany  10.04200  47.6950  Behringer (1987)  \n",
       "540    Baden-Wurttemberg   Germany  10.04200  47.6950  Behringer (1987)  \n",
       "541    Baden-Wurttemberg   Germany  10.07080  48.0917  Behringer (1987)  \n",
       "542    Baden-Wurttemberg   Germany   8.67243  49.3988  Behringer (1987)  \n",
       "543    Baden-Wurttemberg   Germany   8.67243  49.3988  Behringer (1987)  \n",
       "...                  ...       ...       ...      ...               ...  \n",
       "10935            Sachsen   Germany       NaN      NaN      Wilde (2003)  \n",
       "10936            Sachsen   Germany       NaN      NaN      Wilde (2003)  \n",
       "10937            Sachsen   Germany       NaN      NaN      Wilde (2003)  \n",
       "10938            Sachsen   Germany       NaN      NaN      Wilde (2003)  \n",
       "10939            Sachsen   Germany       NaN      NaN      Wilde (2003)  \n",
       "\n",
       "[3417 rows x 12 columns]"
      ]
     },
     "execution_count": 28,
     "metadata": {},
     "output_type": "execute_result"
    }
   ],
   "source": [
    "trials_germany = trials_clean.loc[trials_clean['gadm.adm0']=='Germany']\n",
    "trials_germany"
   ]
  },
  {
   "cell_type": "code",
   "execution_count": 29,
   "metadata": {},
   "outputs": [],
   "source": [
    "# Group by year \n",
    "trials_germany_by_year = trials_germany.groupby([pd.Grouper(key='year')]).count()[['tried']].reset_index()\n",
    "\n",
    "# rename the columns\n",
    "trials_germany_by_year.columns = ['year', 'trials_count']"
   ]
  },
  {
   "cell_type": "code",
   "execution_count": 30,
   "metadata": {},
   "outputs": [
    {
     "name": "stderr",
     "output_type": "stream",
     "text": [
      "/Users/direwolfsummer/.pyenv/versions/3.9.4/envs/j233-files-3.9.4/lib/python3.9/site-packages/altair/utils/core.py:317: FutureWarning: iteritems is deprecated and will be removed in a future version. Use .items instead.\n",
      "  for col_name, dtype in df.dtypes.iteritems():\n"
     ]
    },
    {
     "data": {
      "application/vnd.vegalite.v4+json": {
       "$schema": "https://vega.github.io/schema/vega-lite/v4.17.0.json",
       "config": {
        "view": {
         "continuousHeight": 300,
         "continuousWidth": 400
        }
       },
       "data": {
        "name": "data-ced5c86e18d39d80d167da88a05ceda4"
       },
       "datasets": {
        "data-ced5c86e18d39d80d167da88a05ceda4": [
         {
          "trials_count": 2,
          "year": 1300
         },
         {
          "trials_count": 1,
          "year": 1322
         },
         {
          "trials_count": 1,
          "year": 1326
         },
         {
          "trials_count": 1,
          "year": 1336
         },
         {
          "trials_count": 1,
          "year": 1343
         },
         {
          "trials_count": 1,
          "year": 1347
         },
         {
          "trials_count": 2,
          "year": 1349
         },
         {
          "trials_count": 1,
          "year": 1371
         },
         {
          "trials_count": 2,
          "year": 1379
         },
         {
          "trials_count": 1,
          "year": 1381
         },
         {
          "trials_count": 1,
          "year": 1384
         },
         {
          "trials_count": 1,
          "year": 1385
         },
         {
          "trials_count": 2,
          "year": 1386
         },
         {
          "trials_count": 2,
          "year": 1392
         },
         {
          "trials_count": 1,
          "year": 1399
         },
         {
          "trials_count": 1,
          "year": 1400
         },
         {
          "trials_count": 2,
          "year": 1401
         },
         {
          "trials_count": 2,
          "year": 1406
         },
         {
          "trials_count": 1,
          "year": 1409
         },
         {
          "trials_count": 1,
          "year": 1410
         },
         {
          "trials_count": 1,
          "year": 1415
         },
         {
          "trials_count": 1,
          "year": 1416
         },
         {
          "trials_count": 2,
          "year": 1417
         },
         {
          "trials_count": 2,
          "year": 1420
         },
         {
          "trials_count": 3,
          "year": 1421
         },
         {
          "trials_count": 2,
          "year": 1423
         },
         {
          "trials_count": 1,
          "year": 1424
         },
         {
          "trials_count": 1,
          "year": 1427
         },
         {
          "trials_count": 2,
          "year": 1430
         },
         {
          "trials_count": 1,
          "year": 1431
         },
         {
          "trials_count": 2,
          "year": 1432
         },
         {
          "trials_count": 1,
          "year": 1434
         },
         {
          "trials_count": 3,
          "year": 1435
         },
         {
          "trials_count": 1,
          "year": 1436
         },
         {
          "trials_count": 1,
          "year": 1437
         },
         {
          "trials_count": 1,
          "year": 1438
         },
         {
          "trials_count": 2,
          "year": 1444
         },
         {
          "trials_count": 1,
          "year": 1445
         },
         {
          "trials_count": 4,
          "year": 1446
         },
         {
          "trials_count": 1,
          "year": 1448
         },
         {
          "trials_count": 1,
          "year": 1449
         },
         {
          "trials_count": 3,
          "year": 1450
         },
         {
          "trials_count": 4,
          "year": 1453
         },
         {
          "trials_count": 1,
          "year": 1454
         },
         {
          "trials_count": 1,
          "year": 1456
         },
         {
          "trials_count": 4,
          "year": 1458
         },
         {
          "trials_count": 2,
          "year": 1460
         },
         {
          "trials_count": 1,
          "year": 1464
         },
         {
          "trials_count": 2,
          "year": 1466
         },
         {
          "trials_count": 1,
          "year": 1467
         },
         {
          "trials_count": 1,
          "year": 1468
         },
         {
          "trials_count": 3,
          "year": 1469
         },
         {
          "trials_count": 2,
          "year": 1470
         },
         {
          "trials_count": 3,
          "year": 1471
         },
         {
          "trials_count": 1,
          "year": 1472
         },
         {
          "trials_count": 1,
          "year": 1474
         },
         {
          "trials_count": 2,
          "year": 1475
         },
         {
          "trials_count": 1,
          "year": 1476
         },
         {
          "trials_count": 3,
          "year": 1477
         },
         {
          "trials_count": 4,
          "year": 1478
         },
         {
          "trials_count": 6,
          "year": 1480
         },
         {
          "trials_count": 3,
          "year": 1482
         },
         {
          "trials_count": 2,
          "year": 1483
         },
         {
          "trials_count": 4,
          "year": 1484
         },
         {
          "trials_count": 2,
          "year": 1485
         },
         {
          "trials_count": 4,
          "year": 1486
         },
         {
          "trials_count": 1,
          "year": 1487
         },
         {
          "trials_count": 1,
          "year": 1488
         },
         {
          "trials_count": 1,
          "year": 1489
         },
         {
          "trials_count": 2,
          "year": 1490
         },
         {
          "trials_count": 5,
          "year": 1491
         },
         {
          "trials_count": 1,
          "year": 1492
         },
         {
          "trials_count": 6,
          "year": 1493
         },
         {
          "trials_count": 2,
          "year": 1494
         },
         {
          "trials_count": 1,
          "year": 1495
         },
         {
          "trials_count": 3,
          "year": 1496
         },
         {
          "trials_count": 2,
          "year": 1497
         },
         {
          "trials_count": 2,
          "year": 1498
         },
         {
          "trials_count": 4,
          "year": 1499
         },
         {
          "trials_count": 3,
          "year": 1500
         },
         {
          "trials_count": 4,
          "year": 1502
         },
         {
          "trials_count": 2,
          "year": 1504
         },
         {
          "trials_count": 2,
          "year": 1505
         },
         {
          "trials_count": 3,
          "year": 1507
         },
         {
          "trials_count": 1,
          "year": 1508
         },
         {
          "trials_count": 2,
          "year": 1509
         },
         {
          "trials_count": 3,
          "year": 1510
         },
         {
          "trials_count": 3,
          "year": 1511
         },
         {
          "trials_count": 1,
          "year": 1512
         },
         {
          "trials_count": 1,
          "year": 1513
         },
         {
          "trials_count": 2,
          "year": 1515
         },
         {
          "trials_count": 1,
          "year": 1517
         },
         {
          "trials_count": 2,
          "year": 1518
         },
         {
          "trials_count": 2,
          "year": 1520
         },
         {
          "trials_count": 2,
          "year": 1521
         },
         {
          "trials_count": 1,
          "year": 1522
         },
         {
          "trials_count": 1,
          "year": 1523
         },
         {
          "trials_count": 2,
          "year": 1524
         },
         {
          "trials_count": 1,
          "year": 1525
         },
         {
          "trials_count": 1,
          "year": 1526
         },
         {
          "trials_count": 3,
          "year": 1527
         },
         {
          "trials_count": 4,
          "year": 1528
         },
         {
          "trials_count": 1,
          "year": 1529
         },
         {
          "trials_count": 6,
          "year": 1530
         },
         {
          "trials_count": 1,
          "year": 1531
         },
         {
          "trials_count": 2,
          "year": 1532
         },
         {
          "trials_count": 4,
          "year": 1533
         },
         {
          "trials_count": 1,
          "year": 1534
         },
         {
          "trials_count": 2,
          "year": 1535
         },
         {
          "trials_count": 4,
          "year": 1538
         },
         {
          "trials_count": 4,
          "year": 1539
         },
         {
          "trials_count": 2,
          "year": 1540
         },
         {
          "trials_count": 1,
          "year": 1541
         },
         {
          "trials_count": 3,
          "year": 1542
         },
         {
          "trials_count": 2,
          "year": 1543
         },
         {
          "trials_count": 1,
          "year": 1544
         },
         {
          "trials_count": 1,
          "year": 1545
         },
         {
          "trials_count": 3,
          "year": 1546
         },
         {
          "trials_count": 1,
          "year": 1547
         },
         {
          "trials_count": 3,
          "year": 1548
         },
         {
          "trials_count": 2,
          "year": 1549
         },
         {
          "trials_count": 2,
          "year": 1550
         },
         {
          "trials_count": 1,
          "year": 1551
         },
         {
          "trials_count": 3,
          "year": 1552
         },
         {
          "trials_count": 2,
          "year": 1553
         },
         {
          "trials_count": 1,
          "year": 1554
         },
         {
          "trials_count": 1,
          "year": 1556
         },
         {
          "trials_count": 2,
          "year": 1557
         },
         {
          "trials_count": 3,
          "year": 1558
         },
         {
          "trials_count": 4,
          "year": 1559
         },
         {
          "trials_count": 3,
          "year": 1560
         },
         {
          "trials_count": 5,
          "year": 1561
         },
         {
          "trials_count": 34,
          "year": 1562
         },
         {
          "trials_count": 13,
          "year": 1563
         },
         {
          "trials_count": 13,
          "year": 1564
         },
         {
          "trials_count": 2,
          "year": 1565
         },
         {
          "trials_count": 4,
          "year": 1566
         },
         {
          "trials_count": 3,
          "year": 1567
         },
         {
          "trials_count": 1,
          "year": 1568
         },
         {
          "trials_count": 3,
          "year": 1569
         },
         {
          "trials_count": 9,
          "year": 1570
         },
         {
          "trials_count": 8,
          "year": 1571
         },
         {
          "trials_count": 8,
          "year": 1572
         },
         {
          "trials_count": 9,
          "year": 1573
         },
         {
          "trials_count": 12,
          "year": 1574
         },
         {
          "trials_count": 24,
          "year": 1575
         },
         {
          "trials_count": 19,
          "year": 1576
         },
         {
          "trials_count": 4,
          "year": 1577
         },
         {
          "trials_count": 12,
          "year": 1578
         },
         {
          "trials_count": 15,
          "year": 1579
         },
         {
          "trials_count": 22,
          "year": 1580
         },
         {
          "trials_count": 7,
          "year": 1581
         },
         {
          "trials_count": 8,
          "year": 1582
         },
         {
          "trials_count": 10,
          "year": 1583
         },
         {
          "trials_count": 17,
          "year": 1584
         },
         {
          "trials_count": 8,
          "year": 1585
         },
         {
          "trials_count": 10,
          "year": 1586
         },
         {
          "trials_count": 18,
          "year": 1587
         },
         {
          "trials_count": 16,
          "year": 1588
         },
         {
          "trials_count": 37,
          "year": 1589
         },
         {
          "trials_count": 67,
          "year": 1590
         },
         {
          "trials_count": 53,
          "year": 1591
         },
         {
          "trials_count": 59,
          "year": 1592
         },
         {
          "trials_count": 16,
          "year": 1593
         },
         {
          "trials_count": 19,
          "year": 1594
         },
         {
          "trials_count": 23,
          "year": 1595
         },
         {
          "trials_count": 47,
          "year": 1596
         },
         {
          "trials_count": 60,
          "year": 1597
         },
         {
          "trials_count": 27,
          "year": 1598
         },
         {
          "trials_count": 29,
          "year": 1599
         },
         {
          "trials_count": 23,
          "year": 1600
         },
         {
          "trials_count": 24,
          "year": 1601
         },
         {
          "trials_count": 21,
          "year": 1602
         },
         {
          "trials_count": 24,
          "year": 1603
         },
         {
          "trials_count": 19,
          "year": 1604
         },
         {
          "trials_count": 21,
          "year": 1605
         },
         {
          "trials_count": 12,
          "year": 1606
         },
         {
          "trials_count": 12,
          "year": 1607
         },
         {
          "trials_count": 32,
          "year": 1608
         },
         {
          "trials_count": 26,
          "year": 1609
         },
         {
          "trials_count": 25,
          "year": 1610
         },
         {
          "trials_count": 33,
          "year": 1611
         },
         {
          "trials_count": 30,
          "year": 1612
         },
         {
          "trials_count": 41,
          "year": 1613
         },
         {
          "trials_count": 28,
          "year": 1614
         },
         {
          "trials_count": 39,
          "year": 1615
         },
         {
          "trials_count": 43,
          "year": 1616
         },
         {
          "trials_count": 20,
          "year": 1617
         },
         {
          "trials_count": 37,
          "year": 1618
         },
         {
          "trials_count": 16,
          "year": 1619
         },
         {
          "trials_count": 17,
          "year": 1620
         },
         {
          "trials_count": 20,
          "year": 1621
         },
         {
          "trials_count": 16,
          "year": 1622
         },
         {
          "trials_count": 18,
          "year": 1623
         },
         {
          "trials_count": 18,
          "year": 1624
         },
         {
          "trials_count": 19,
          "year": 1625
         },
         {
          "trials_count": 16,
          "year": 1626
         },
         {
          "trials_count": 28,
          "year": 1627
         },
         {
          "trials_count": 55,
          "year": 1628
         },
         {
          "trials_count": 62,
          "year": 1629
         },
         {
          "trials_count": 51,
          "year": 1630
         },
         {
          "trials_count": 23,
          "year": 1631
         },
         {
          "trials_count": 22,
          "year": 1632
         },
         {
          "trials_count": 103,
          "year": 1633
         },
         {
          "trials_count": 70,
          "year": 1634
         },
         {
          "trials_count": 2,
          "year": 1635
         },
         {
          "trials_count": 5,
          "year": 1636
         },
         {
          "trials_count": 19,
          "year": 1637
         },
         {
          "trials_count": 5,
          "year": 1638
         },
         {
          "trials_count": 8,
          "year": 1639
         },
         {
          "trials_count": 14,
          "year": 1640
         },
         {
          "trials_count": 11,
          "year": 1641
         },
         {
          "trials_count": 9,
          "year": 1642
         },
         {
          "trials_count": 11,
          "year": 1643
         },
         {
          "trials_count": 13,
          "year": 1644
         },
         {
          "trials_count": 7,
          "year": 1645
         },
         {
          "trials_count": 4,
          "year": 1646
         },
         {
          "trials_count": 7,
          "year": 1647
         },
         {
          "trials_count": 8,
          "year": 1648
         },
         {
          "trials_count": 9,
          "year": 1649
         },
         {
          "trials_count": 19,
          "year": 1650
         },
         {
          "trials_count": 12,
          "year": 1651
         },
         {
          "trials_count": 72,
          "year": 1652
         },
         {
          "trials_count": 37,
          "year": 1653
         },
         {
          "trials_count": 10,
          "year": 1654
         },
         {
          "trials_count": 7,
          "year": 1655
         },
         {
          "trials_count": 11,
          "year": 1656
         },
         {
          "trials_count": 20,
          "year": 1657
         },
         {
          "trials_count": 10,
          "year": 1658
         },
         {
          "trials_count": 16,
          "year": 1659
         },
         {
          "trials_count": 27,
          "year": 1660
         },
         {
          "trials_count": 16,
          "year": 1661
         },
         {
          "trials_count": 20,
          "year": 1662
         },
         {
          "trials_count": 35,
          "year": 1663
         },
         {
          "trials_count": 14,
          "year": 1664
         },
         {
          "trials_count": 32,
          "year": 1665
         },
         {
          "trials_count": 12,
          "year": 1666
         },
         {
          "trials_count": 16,
          "year": 1667
         },
         {
          "trials_count": 21,
          "year": 1668
         },
         {
          "trials_count": 14,
          "year": 1669
         },
         {
          "trials_count": 40,
          "year": 1670
         },
         {
          "trials_count": 13,
          "year": 1671
         },
         {
          "trials_count": 18,
          "year": 1672
         },
         {
          "trials_count": 11,
          "year": 1673
         },
         {
          "trials_count": 11,
          "year": 1674
         },
         {
          "trials_count": 9,
          "year": 1675
         },
         {
          "trials_count": 8,
          "year": 1676
         },
         {
          "trials_count": 25,
          "year": 1677
         },
         {
          "trials_count": 12,
          "year": 1678
         },
         {
          "trials_count": 19,
          "year": 1679
         },
         {
          "trials_count": 20,
          "year": 1680
         },
         {
          "trials_count": 23,
          "year": 1681
         },
         {
          "trials_count": 19,
          "year": 1682
         },
         {
          "trials_count": 9,
          "year": 1683
         },
         {
          "trials_count": 10,
          "year": 1684
         },
         {
          "trials_count": 18,
          "year": 1685
         },
         {
          "trials_count": 14,
          "year": 1686
         },
         {
          "trials_count": 21,
          "year": 1687
         },
         {
          "trials_count": 19,
          "year": 1688
         },
         {
          "trials_count": 5,
          "year": 1689
         },
         {
          "trials_count": 17,
          "year": 1690
         },
         {
          "trials_count": 8,
          "year": 1691
         },
         {
          "trials_count": 14,
          "year": 1692
         },
         {
          "trials_count": 9,
          "year": 1693
         },
         {
          "trials_count": 10,
          "year": 1694
         },
         {
          "trials_count": 21,
          "year": 1695
         },
         {
          "trials_count": 8,
          "year": 1696
         },
         {
          "trials_count": 7,
          "year": 1697
         },
         {
          "trials_count": 7,
          "year": 1698
         },
         {
          "trials_count": 13,
          "year": 1699
         },
         {
          "trials_count": 21,
          "year": 1700
         },
         {
          "trials_count": 13,
          "year": 1701
         },
         {
          "trials_count": 11,
          "year": 1702
         },
         {
          "trials_count": 8,
          "year": 1703
         },
         {
          "trials_count": 3,
          "year": 1704
         },
         {
          "trials_count": 5,
          "year": 1705
         },
         {
          "trials_count": 2,
          "year": 1706
         },
         {
          "trials_count": 3,
          "year": 1707
         },
         {
          "trials_count": 3,
          "year": 1708
         },
         {
          "trials_count": 2,
          "year": 1709
         },
         {
          "trials_count": 12,
          "year": 1710
         },
         {
          "trials_count": 5,
          "year": 1711
         },
         {
          "trials_count": 7,
          "year": 1712
         },
         {
          "trials_count": 6,
          "year": 1713
         },
         {
          "trials_count": 5,
          "year": 1714
         },
         {
          "trials_count": 10,
          "year": 1715
         },
         {
          "trials_count": 6,
          "year": 1716
         },
         {
          "trials_count": 1,
          "year": 1717
         },
         {
          "trials_count": 5,
          "year": 1718
         },
         {
          "trials_count": 5,
          "year": 1719
         },
         {
          "trials_count": 11,
          "year": 1720
         },
         {
          "trials_count": 12,
          "year": 1721
         },
         {
          "trials_count": 6,
          "year": 1722
         },
         {
          "trials_count": 2,
          "year": 1723
         },
         {
          "trials_count": 6,
          "year": 1724
         },
         {
          "trials_count": 1,
          "year": 1725
         },
         {
          "trials_count": 3,
          "year": 1726
         },
         {
          "trials_count": 3,
          "year": 1727
         },
         {
          "trials_count": 3,
          "year": 1728
         },
         {
          "trials_count": 4,
          "year": 1729
         },
         {
          "trials_count": 6,
          "year": 1730
         },
         {
          "trials_count": 1,
          "year": 1731
         },
         {
          "trials_count": 2,
          "year": 1732
         },
         {
          "trials_count": 2,
          "year": 1733
         },
         {
          "trials_count": 1,
          "year": 1734
         },
         {
          "trials_count": 1,
          "year": 1736
         },
         {
          "trials_count": 1,
          "year": 1737
         },
         {
          "trials_count": 1,
          "year": 1738
         },
         {
          "trials_count": 1,
          "year": 1739
         },
         {
          "trials_count": 5,
          "year": 1740
         },
         {
          "trials_count": 1,
          "year": 1742
         },
         {
          "trials_count": 1,
          "year": 1743
         },
         {
          "trials_count": 3,
          "year": 1744
         },
         {
          "trials_count": 2,
          "year": 1746
         },
         {
          "trials_count": 5,
          "year": 1749
         },
         {
          "trials_count": 6,
          "year": 1750
         },
         {
          "trials_count": 4,
          "year": 1751
         },
         {
          "trials_count": 2,
          "year": 1752
         },
         {
          "trials_count": 3,
          "year": 1753
         },
         {
          "trials_count": 2,
          "year": 1754
         },
         {
          "trials_count": 5,
          "year": 1755
         },
         {
          "trials_count": 1,
          "year": 1756
         },
         {
          "trials_count": 1,
          "year": 1757
         },
         {
          "trials_count": 1,
          "year": 1760
         },
         {
          "trials_count": 1,
          "year": 1761
         },
         {
          "trials_count": 1,
          "year": 1765
         },
         {
          "trials_count": 1,
          "year": 1766
         },
         {
          "trials_count": 2,
          "year": 1770
         },
         {
          "trials_count": 1,
          "year": 1771
         },
         {
          "trials_count": 1,
          "year": 1773
         },
         {
          "trials_count": 1,
          "year": 1775
         },
         {
          "trials_count": 2,
          "year": 1790
         },
         {
          "trials_count": 1,
          "year": 1792
         }
        ]
       },
       "encoding": {
        "x": {
         "field": "year",
         "type": "quantitative"
        },
        "y": {
         "field": "trials_count",
         "type": "quantitative"
        }
       },
       "mark": "line",
       "title": {
        "text": "Germany Witch Trials by year"
       }
      },
      "text/plain": [
       "<VegaLite 4 object>\n",
       "\n",
       "If you see this message, it means the renderer has not been properly enabled\n",
       "for the frontend that you are using. For more information, see\n",
       "https://altair-viz.github.io/user_guide/troubleshooting.html\n"
      ]
     },
     "execution_count": 30,
     "metadata": {},
     "output_type": "execute_result"
    }
   ],
   "source": [
    "# line chart by altair\n",
    "alt.Chart(trials_germany_by_year).mark_line().encode(\n",
    "    x=alt.X('year'),\n",
    "    y=alt.Y('trials_count'),\n",
    ").properties(\n",
    "    title={\n",
    "        'text': 'Germany Witch Trials by year',\n",
    "    }\n",
    ")"
   ]
  },
  {
   "cell_type": "markdown",
   "metadata": {},
   "source": [
    "![Germany Witch Trials by year](./img/germany_witch_trials_by_year.png)"
   ]
  },
  {
   "cell_type": "code",
   "execution_count": 32,
   "metadata": {},
   "outputs": [],
   "source": [
    "# Group by gadm.adm1\n",
    "trials_germany_by_region = trials_germany.groupby([pd.Grouper(key='gadm.adm1')]).count()[['tried']].reset_index()\n",
    "\n",
    "# rename the columns\n",
    "trials_germany_by_region.columns = ['region', 'trials_count']"
   ]
  },
  {
   "cell_type": "code",
   "execution_count": 33,
   "metadata": {},
   "outputs": [
    {
     "name": "stderr",
     "output_type": "stream",
     "text": [
      "/Users/direwolfsummer/.pyenv/versions/3.9.4/envs/j233-files-3.9.4/lib/python3.9/site-packages/altair/utils/core.py:317: FutureWarning: iteritems is deprecated and will be removed in a future version. Use .items instead.\n",
      "  for col_name, dtype in df.dtypes.iteritems():\n"
     ]
    },
    {
     "data": {
      "application/vnd.vegalite.v4+json": {
       "$schema": "https://vega.github.io/schema/vega-lite/v4.17.0.json",
       "config": {
        "view": {
         "continuousHeight": 300,
         "continuousWidth": 400
        }
       },
       "data": {
        "name": "data-0b5ff9564193005b4671946b491ed3e7"
       },
       "datasets": {
        "data-0b5ff9564193005b4671946b491ed3e7": [
         {
          "region": "Baden-Wurttemberg",
          "trials_count": 1153
         },
         {
          "region": "Bayern",
          "trials_count": 1388
         },
         {
          "region": "Berlin",
          "trials_count": 4
         },
         {
          "region": "Brandenburg",
          "trials_count": 2
         },
         {
          "region": "Hamburg",
          "trials_count": 3
         },
         {
          "region": "Hessen",
          "trials_count": 519
         },
         {
          "region": "Mecklenburg-Vorpommern",
          "trials_count": 16
         },
         {
          "region": "Niedersachsen",
          "trials_count": 5
         },
         {
          "region": "Nordrhein-Westfalen",
          "trials_count": 166
         },
         {
          "region": "Rheinland-Pfalz",
          "trials_count": 46
         },
         {
          "region": "Saarland",
          "trials_count": 36
         },
         {
          "region": "Sachsen",
          "trials_count": 37
         },
         {
          "region": "Sachsen-Anhalt",
          "trials_count": 38
         }
        ]
       },
       "encoding": {
        "x": {
         "field": "region",
         "type": "nominal"
        },
        "y": {
         "field": "trials_count",
         "type": "quantitative"
        }
       },
       "mark": "bar",
       "title": {
        "text": "Germany Witch Trials by region"
       }
      },
      "text/plain": [
       "<VegaLite 4 object>\n",
       "\n",
       "If you see this message, it means the renderer has not been properly enabled\n",
       "for the frontend that you are using. For more information, see\n",
       "https://altair-viz.github.io/user_guide/troubleshooting.html\n"
      ]
     },
     "execution_count": 33,
     "metadata": {},
     "output_type": "execute_result"
    }
   ],
   "source": [
    "# bar chart by altair\n",
    "alt.Chart(trials_germany_by_region).mark_bar().encode(\n",
    "    x=alt.X('region'),\n",
    "    y=alt.Y('trials_count'),\n",
    ").properties(\n",
    "    title={\n",
    "        'text': 'Germany Witch Trials by region',\n",
    "    }\n",
    ")"
   ]
  },
  {
   "cell_type": "markdown",
   "metadata": {},
   "source": [
    "![Germany Witch Trials by region](./img/germany_witch_trials_by_region.png)"
   ]
  },
  {
   "cell_type": "markdown",
   "metadata": {},
   "source": [
    "Germany was the Protestant Reformation’s birthplace and also the country most affected by Catholic–Protestant warfare. According to [Wikipedia's European wars of religion](https://en.wikipedia.org/wiki/European_wars_of_religion), in 1545, the Catholic Church began the Counter-Reformation against the growth of Protestantism. The conflicts culminated in the Thirty Years' War, which devastated Germany and killed one third of its population, a mortality rate twice that of World War I."
   ]
  },
  {
   "cell_type": "markdown",
   "metadata": {},
   "source": [
    "In 1487, two German Heinrich Kramer and Jacob Sprenger published Malleus Maleficarum – ‘Hammer of Witches’, which is probably the most influencial book on how to investigate accusations of witchcraft and execute witches. At that time, the Gutenberg printing press had just been invented along the Rhine River, and Kramer fully utilized it to print his book and spread his ideas. "
   ]
  },
  {
   "cell_type": "markdown",
   "metadata": {},
   "source": [
    "### Witch Trials in UK"
   ]
  },
  {
   "cell_type": "code",
   "execution_count": 34,
   "metadata": {},
   "outputs": [
    {
     "data": {
      "text/html": [
       "<div>\n",
       "<style scoped>\n",
       "    .dataframe tbody tr th:only-of-type {\n",
       "        vertical-align: middle;\n",
       "    }\n",
       "\n",
       "    .dataframe tbody tr th {\n",
       "        vertical-align: top;\n",
       "    }\n",
       "\n",
       "    .dataframe thead th {\n",
       "        text-align: right;\n",
       "    }\n",
       "</style>\n",
       "<table border=\"1\" class=\"dataframe\">\n",
       "  <thead>\n",
       "    <tr style=\"text-align: right;\">\n",
       "      <th></th>\n",
       "      <th>year</th>\n",
       "      <th>decade</th>\n",
       "      <th>century</th>\n",
       "      <th>tried</th>\n",
       "      <th>deaths</th>\n",
       "      <th>city</th>\n",
       "      <th>gadm.adm2</th>\n",
       "      <th>gadm.adm1</th>\n",
       "      <th>gadm.adm0</th>\n",
       "      <th>lon</th>\n",
       "      <th>lat</th>\n",
       "      <th>record.source</th>\n",
       "    </tr>\n",
       "  </thead>\n",
       "  <tbody>\n",
       "    <tr>\n",
       "      <th>2480</th>\n",
       "      <td>1699.0</td>\n",
       "      <td>1690</td>\n",
       "      <td>1600</td>\n",
       "      <td>1</td>\n",
       "      <td>NaN</td>\n",
       "      <td>NaN</td>\n",
       "      <td>Antrim</td>\n",
       "      <td>Northern Ireland</td>\n",
       "      <td>United Kingdom</td>\n",
       "      <td>NaN</td>\n",
       "      <td>NaN</td>\n",
       "      <td>Carlson (2013)</td>\n",
       "    </tr>\n",
       "    <tr>\n",
       "      <th>2481</th>\n",
       "      <td>1711.0</td>\n",
       "      <td>1710</td>\n",
       "      <td>1700</td>\n",
       "      <td>8</td>\n",
       "      <td>NaN</td>\n",
       "      <td>NaN</td>\n",
       "      <td>Antrim</td>\n",
       "      <td>Northern Ireland</td>\n",
       "      <td>United Kingdom</td>\n",
       "      <td>NaN</td>\n",
       "      <td>NaN</td>\n",
       "      <td>Carlson (2013)</td>\n",
       "    </tr>\n",
       "    <tr>\n",
       "      <th>2882</th>\n",
       "      <td>1569.0</td>\n",
       "      <td>1560</td>\n",
       "      <td>1500</td>\n",
       "      <td>1</td>\n",
       "      <td>0.0</td>\n",
       "      <td>NaN</td>\n",
       "      <td>Fife</td>\n",
       "      <td>Scotland</td>\n",
       "      <td>United Kingdom</td>\n",
       "      <td>NaN</td>\n",
       "      <td>NaN</td>\n",
       "      <td>Goodare et al. (2003)</td>\n",
       "    </tr>\n",
       "    <tr>\n",
       "      <th>2883</th>\n",
       "      <td>1560.0</td>\n",
       "      <td>1560</td>\n",
       "      <td>1500</td>\n",
       "      <td>3</td>\n",
       "      <td>NaN</td>\n",
       "      <td>NaN</td>\n",
       "      <td>NaN</td>\n",
       "      <td>Scotland</td>\n",
       "      <td>United Kingdom</td>\n",
       "      <td>NaN</td>\n",
       "      <td>NaN</td>\n",
       "      <td>Goodare et al. (2003)</td>\n",
       "    </tr>\n",
       "    <tr>\n",
       "      <th>2884</th>\n",
       "      <td>1562.0</td>\n",
       "      <td>1560</td>\n",
       "      <td>1500</td>\n",
       "      <td>1</td>\n",
       "      <td>NaN</td>\n",
       "      <td>NaN</td>\n",
       "      <td>Stirling</td>\n",
       "      <td>Scotland</td>\n",
       "      <td>United Kingdom</td>\n",
       "      <td>NaN</td>\n",
       "      <td>NaN</td>\n",
       "      <td>Goodare et al. (2003)</td>\n",
       "    </tr>\n",
       "    <tr>\n",
       "      <th>...</th>\n",
       "      <td>...</td>\n",
       "      <td>...</td>\n",
       "      <td>...</td>\n",
       "      <td>...</td>\n",
       "      <td>...</td>\n",
       "      <td>...</td>\n",
       "      <td>...</td>\n",
       "      <td>...</td>\n",
       "      <td>...</td>\n",
       "      <td>...</td>\n",
       "      <td>...</td>\n",
       "      <td>...</td>\n",
       "    </tr>\n",
       "    <tr>\n",
       "      <th>10544</th>\n",
       "      <td>1676.0</td>\n",
       "      <td>1670</td>\n",
       "      <td>1600</td>\n",
       "      <td>1</td>\n",
       "      <td>1.0</td>\n",
       "      <td>NaN</td>\n",
       "      <td>Gloucestershire</td>\n",
       "      <td>England</td>\n",
       "      <td>United Kingdom</td>\n",
       "      <td>NaN</td>\n",
       "      <td>NaN</td>\n",
       "      <td>Valletta (2000)</td>\n",
       "    </tr>\n",
       "    <tr>\n",
       "      <th>10545</th>\n",
       "      <td>1685.0</td>\n",
       "      <td>1680</td>\n",
       "      <td>1600</td>\n",
       "      <td>1</td>\n",
       "      <td>NaN</td>\n",
       "      <td>NaN</td>\n",
       "      <td>Wiltshire</td>\n",
       "      <td>England</td>\n",
       "      <td>United Kingdom</td>\n",
       "      <td>NaN</td>\n",
       "      <td>NaN</td>\n",
       "      <td>Valletta (2000)</td>\n",
       "    </tr>\n",
       "    <tr>\n",
       "      <th>10546</th>\n",
       "      <td>1699.0</td>\n",
       "      <td>1690</td>\n",
       "      <td>1600</td>\n",
       "      <td>1</td>\n",
       "      <td>1.0</td>\n",
       "      <td>NaN</td>\n",
       "      <td>Essex</td>\n",
       "      <td>England</td>\n",
       "      <td>United Kingdom</td>\n",
       "      <td>NaN</td>\n",
       "      <td>NaN</td>\n",
       "      <td>Valletta (2000)</td>\n",
       "    </tr>\n",
       "    <tr>\n",
       "      <th>10547</th>\n",
       "      <td>1732.0</td>\n",
       "      <td>1730</td>\n",
       "      <td>1700</td>\n",
       "      <td>1</td>\n",
       "      <td>NaN</td>\n",
       "      <td>NaN</td>\n",
       "      <td>Suffolk</td>\n",
       "      <td>England</td>\n",
       "      <td>United Kingdom</td>\n",
       "      <td>NaN</td>\n",
       "      <td>NaN</td>\n",
       "      <td>Valletta (2000)</td>\n",
       "    </tr>\n",
       "    <tr>\n",
       "      <th>10548</th>\n",
       "      <td>1748.0</td>\n",
       "      <td>1740</td>\n",
       "      <td>1700</td>\n",
       "      <td>1</td>\n",
       "      <td>NaN</td>\n",
       "      <td>NaN</td>\n",
       "      <td>Suffolk</td>\n",
       "      <td>England</td>\n",
       "      <td>United Kingdom</td>\n",
       "      <td>NaN</td>\n",
       "      <td>NaN</td>\n",
       "      <td>Valletta (2000)</td>\n",
       "    </tr>\n",
       "  </tbody>\n",
       "</table>\n",
       "<p>3750 rows × 12 columns</p>\n",
       "</div>"
      ],
      "text/plain": [
       "         year  decade  century  tried  deaths city        gadm.adm2  \\\n",
       "2480   1699.0    1690     1600      1     NaN  NaN           Antrim   \n",
       "2481   1711.0    1710     1700      8     NaN  NaN           Antrim   \n",
       "2882   1569.0    1560     1500      1     0.0  NaN             Fife   \n",
       "2883   1560.0    1560     1500      3     NaN  NaN              NaN   \n",
       "2884   1562.0    1560     1500      1     NaN  NaN         Stirling   \n",
       "...       ...     ...      ...    ...     ...  ...              ...   \n",
       "10544  1676.0    1670     1600      1     1.0  NaN  Gloucestershire   \n",
       "10545  1685.0    1680     1600      1     NaN  NaN        Wiltshire   \n",
       "10546  1699.0    1690     1600      1     1.0  NaN            Essex   \n",
       "10547  1732.0    1730     1700      1     NaN  NaN          Suffolk   \n",
       "10548  1748.0    1740     1700      1     NaN  NaN          Suffolk   \n",
       "\n",
       "              gadm.adm1       gadm.adm0  lon  lat          record.source  \n",
       "2480   Northern Ireland  United Kingdom  NaN  NaN         Carlson (2013)  \n",
       "2481   Northern Ireland  United Kingdom  NaN  NaN         Carlson (2013)  \n",
       "2882           Scotland  United Kingdom  NaN  NaN  Goodare et al. (2003)  \n",
       "2883           Scotland  United Kingdom  NaN  NaN  Goodare et al. (2003)  \n",
       "2884           Scotland  United Kingdom  NaN  NaN  Goodare et al. (2003)  \n",
       "...                 ...             ...  ...  ...                    ...  \n",
       "10544           England  United Kingdom  NaN  NaN        Valletta (2000)  \n",
       "10545           England  United Kingdom  NaN  NaN        Valletta (2000)  \n",
       "10546           England  United Kingdom  NaN  NaN        Valletta (2000)  \n",
       "10547           England  United Kingdom  NaN  NaN        Valletta (2000)  \n",
       "10548           England  United Kingdom  NaN  NaN        Valletta (2000)  \n",
       "\n",
       "[3750 rows x 12 columns]"
      ]
     },
     "execution_count": 34,
     "metadata": {},
     "output_type": "execute_result"
    }
   ],
   "source": [
    "trials_uk = trials_clean.loc[trials_clean['gadm.adm0']=='United Kingdom']\n",
    "trials_uk"
   ]
  },
  {
   "cell_type": "code",
   "execution_count": 35,
   "metadata": {},
   "outputs": [],
   "source": [
    "# Group by year \n",
    "trials_uk_by_year = trials_uk.groupby([pd.Grouper(key='year')]).count()[['tried']].reset_index()\n",
    "\n",
    "# rename the columns\n",
    "trials_uk_by_year.columns = ['year', 'trials_count']"
   ]
  },
  {
   "cell_type": "code",
   "execution_count": 36,
   "metadata": {},
   "outputs": [
    {
     "name": "stderr",
     "output_type": "stream",
     "text": [
      "/Users/direwolfsummer/.pyenv/versions/3.9.4/envs/j233-files-3.9.4/lib/python3.9/site-packages/altair/utils/core.py:317: FutureWarning: iteritems is deprecated and will be removed in a future version. Use .items instead.\n",
      "  for col_name, dtype in df.dtypes.iteritems():\n"
     ]
    },
    {
     "data": {
      "application/vnd.vegalite.v4+json": {
       "$schema": "https://vega.github.io/schema/vega-lite/v4.17.0.json",
       "config": {
        "view": {
         "continuousHeight": 300,
         "continuousWidth": 400
        }
       },
       "data": {
        "name": "data-538c82302af309b3ddda2d4c25b30530"
       },
       "datasets": {
        "data-538c82302af309b3ddda2d4c25b30530": [
         {
          "trials_count": 1,
          "year": 1301
         },
         {
          "trials_count": 2,
          "year": 1302
         },
         {
          "trials_count": 1,
          "year": 1311
         },
         {
          "trials_count": 1,
          "year": 1314
         },
         {
          "trials_count": 1,
          "year": 1325
         },
         {
          "trials_count": 1,
          "year": 1330
         },
         {
          "trials_count": 1,
          "year": 1331
         },
         {
          "trials_count": 1,
          "year": 1337
         },
         {
          "trials_count": 1,
          "year": 1366
         },
         {
          "trials_count": 1,
          "year": 1371
         },
         {
          "trials_count": 1,
          "year": 1376
         },
         {
          "trials_count": 1,
          "year": 1385
         },
         {
          "trials_count": 1,
          "year": 1388
         },
         {
          "trials_count": 2,
          "year": 1419
         },
         {
          "trials_count": 1,
          "year": 1426
         },
         {
          "trials_count": 2,
          "year": 1430
         },
         {
          "trials_count": 1,
          "year": 1432
         },
         {
          "trials_count": 1,
          "year": 1435
         },
         {
          "trials_count": 1,
          "year": 1440
         },
         {
          "trials_count": 1,
          "year": 1441
         },
         {
          "trials_count": 1,
          "year": 1444
         },
         {
          "trials_count": 1,
          "year": 1446
         },
         {
          "trials_count": 2,
          "year": 1447
         },
         {
          "trials_count": 2,
          "year": 1450
         },
         {
          "trials_count": 1,
          "year": 1451
         },
         {
          "trials_count": 1,
          "year": 1452
         },
         {
          "trials_count": 1,
          "year": 1457
         },
         {
          "trials_count": 1,
          "year": 1465
         },
         {
          "trials_count": 1,
          "year": 1466
         },
         {
          "trials_count": 1,
          "year": 1470
         },
         {
          "trials_count": 1,
          "year": 1476
         },
         {
          "trials_count": 1,
          "year": 1478
         },
         {
          "trials_count": 1,
          "year": 1479
         },
         {
          "trials_count": 1,
          "year": 1480
         },
         {
          "trials_count": 2,
          "year": 1481
         },
         {
          "trials_count": 1,
          "year": 1483
         },
         {
          "trials_count": 1,
          "year": 1490
         },
         {
          "trials_count": 1,
          "year": 1492
         },
         {
          "trials_count": 1,
          "year": 1493
         },
         {
          "trials_count": 1,
          "year": 1496
         },
         {
          "trials_count": 1,
          "year": 1497
         },
         {
          "trials_count": 3,
          "year": 1499
         },
         {
          "trials_count": 1,
          "year": 1558
         },
         {
          "trials_count": 1,
          "year": 1559
         },
         {
          "trials_count": 2,
          "year": 1560
         },
         {
          "trials_count": 2,
          "year": 1561
         },
         {
          "trials_count": 2,
          "year": 1562
         },
         {
          "trials_count": 3,
          "year": 1563
         },
         {
          "trials_count": 2,
          "year": 1565
         },
         {
          "trials_count": 1,
          "year": 1566
         },
         {
          "trials_count": 39,
          "year": 1568
         },
         {
          "trials_count": 4,
          "year": 1569
         },
         {
          "trials_count": 4,
          "year": 1570
         },
         {
          "trials_count": 1,
          "year": 1572
         },
         {
          "trials_count": 2,
          "year": 1574
         },
         {
          "trials_count": 4,
          "year": 1575
         },
         {
          "trials_count": 1,
          "year": 1576
         },
         {
          "trials_count": 32,
          "year": 1577
         },
         {
          "trials_count": 2,
          "year": 1578
         },
         {
          "trials_count": 8,
          "year": 1579
         },
         {
          "trials_count": 6,
          "year": 1580
         },
         {
          "trials_count": 5,
          "year": 1581
         },
         {
          "trials_count": 7,
          "year": 1582
         },
         {
          "trials_count": 12,
          "year": 1583
         },
         {
          "trials_count": 4,
          "year": 1584
         },
         {
          "trials_count": 5,
          "year": 1585
         },
         {
          "trials_count": 5,
          "year": 1586
         },
         {
          "trials_count": 3,
          "year": 1587
         },
         {
          "trials_count": 3,
          "year": 1588
         },
         {
          "trials_count": 3,
          "year": 1589
         },
         {
          "trials_count": 46,
          "year": 1590
         },
         {
          "trials_count": 52,
          "year": 1591
         },
         {
          "trials_count": 7,
          "year": 1592
         },
         {
          "trials_count": 3,
          "year": 1593
         },
         {
          "trials_count": 1,
          "year": 1594
         },
         {
          "trials_count": 9,
          "year": 1595
         },
         {
          "trials_count": 11,
          "year": 1596
         },
         {
          "trials_count": 112,
          "year": 1597
         },
         {
          "trials_count": 13,
          "year": 1598
         },
         {
          "trials_count": 4,
          "year": 1599
         },
         {
          "trials_count": 3,
          "year": 1600
         },
         {
          "trials_count": 7,
          "year": 1601
         },
         {
          "trials_count": 3,
          "year": 1602
         },
         {
          "trials_count": 10,
          "year": 1603
         },
         {
          "trials_count": 7,
          "year": 1604
         },
         {
          "trials_count": 4,
          "year": 1605
         },
         {
          "trials_count": 5,
          "year": 1606
         },
         {
          "trials_count": 8,
          "year": 1607
         },
         {
          "trials_count": 7,
          "year": 1608
         },
         {
          "trials_count": 8,
          "year": 1609
         },
         {
          "trials_count": 6,
          "year": 1610
         },
         {
          "trials_count": 7,
          "year": 1611
         },
         {
          "trials_count": 18,
          "year": 1612
         },
         {
          "trials_count": 24,
          "year": 1613
         },
         {
          "trials_count": 10,
          "year": 1614
         },
         {
          "trials_count": 16,
          "year": 1615
         },
         {
          "trials_count": 27,
          "year": 1616
         },
         {
          "trials_count": 7,
          "year": 1617
         },
         {
          "trials_count": 12,
          "year": 1618
         },
         {
          "trials_count": 6,
          "year": 1619
         },
         {
          "trials_count": 8,
          "year": 1620
         },
         {
          "trials_count": 14,
          "year": 1621
         },
         {
          "trials_count": 18,
          "year": 1622
         },
         {
          "trials_count": 22,
          "year": 1623
         },
         {
          "trials_count": 31,
          "year": 1624
         },
         {
          "trials_count": 2,
          "year": 1625
         },
         {
          "trials_count": 43,
          "year": 1626
         },
         {
          "trials_count": 12,
          "year": 1627
         },
         {
          "trials_count": 82,
          "year": 1628
         },
         {
          "trials_count": 160,
          "year": 1629
         },
         {
          "trials_count": 104,
          "year": 1630
         },
         {
          "trials_count": 14,
          "year": 1631
         },
         {
          "trials_count": 16,
          "year": 1632
         },
         {
          "trials_count": 35,
          "year": 1633
         },
         {
          "trials_count": 12,
          "year": 1634
         },
         {
          "trials_count": 6,
          "year": 1635
         },
         {
          "trials_count": 22,
          "year": 1636
         },
         {
          "trials_count": 6,
          "year": 1637
         },
         {
          "trials_count": 5,
          "year": 1638
         },
         {
          "trials_count": 10,
          "year": 1640
         },
         {
          "trials_count": 9,
          "year": 1641
         },
         {
          "trials_count": 15,
          "year": 1642
         },
         {
          "trials_count": 107,
          "year": 1643
         },
         {
          "trials_count": 68,
          "year": 1644
         },
         {
          "trials_count": 132,
          "year": 1645
         },
         {
          "trials_count": 46,
          "year": 1646
         },
         {
          "trials_count": 29,
          "year": 1647
         },
         {
          "trials_count": 11,
          "year": 1648
         },
         {
          "trials_count": 417,
          "year": 1649
         },
         {
          "trials_count": 226,
          "year": 1650
         },
         {
          "trials_count": 13,
          "year": 1651
         },
         {
          "trials_count": 23,
          "year": 1652
         },
         {
          "trials_count": 9,
          "year": 1653
         },
         {
          "trials_count": 7,
          "year": 1654
         },
         {
          "trials_count": 26,
          "year": 1655
         },
         {
          "trials_count": 7,
          "year": 1656
         },
         {
          "trials_count": 9,
          "year": 1657
         },
         {
          "trials_count": 82,
          "year": 1658
         },
         {
          "trials_count": 84,
          "year": 1659
         },
         {
          "trials_count": 11,
          "year": 1660
         },
         {
          "trials_count": 232,
          "year": 1661
         },
         {
          "trials_count": 400,
          "year": 1662
         },
         {
          "trials_count": 7,
          "year": 1663
         },
         {
          "trials_count": 14,
          "year": 1664
         },
         {
          "trials_count": 3,
          "year": 1665
         },
         {
          "trials_count": 12,
          "year": 1666
         },
         {
          "trials_count": 7,
          "year": 1667
         },
         {
          "trials_count": 2,
          "year": 1668
         },
         {
          "trials_count": 12,
          "year": 1669
         },
         {
          "trials_count": 17,
          "year": 1670
         },
         {
          "trials_count": 26,
          "year": 1671
         },
         {
          "trials_count": 10,
          "year": 1672
         },
         {
          "trials_count": 2,
          "year": 1673
         },
         {
          "trials_count": 6,
          "year": 1674
         },
         {
          "trials_count": 8,
          "year": 1675
         },
         {
          "trials_count": 5,
          "year": 1676
         },
         {
          "trials_count": 21,
          "year": 1677
         },
         {
          "trials_count": 34,
          "year": 1678
         },
         {
          "trials_count": 46,
          "year": 1679
         },
         {
          "trials_count": 12,
          "year": 1680
         },
         {
          "trials_count": 2,
          "year": 1681
         },
         {
          "trials_count": 5,
          "year": 1682
         },
         {
          "trials_count": 17,
          "year": 1683
         },
         {
          "trials_count": 4,
          "year": 1684
         },
         {
          "trials_count": 3,
          "year": 1685
         },
         {
          "trials_count": 2,
          "year": 1686
         },
         {
          "trials_count": 4,
          "year": 1687
         },
         {
          "trials_count": 1,
          "year": 1688
         },
         {
          "trials_count": 2,
          "year": 1689
         },
         {
          "trials_count": 1,
          "year": 1690
         },
         {
          "trials_count": 2,
          "year": 1691
         },
         {
          "trials_count": 6,
          "year": 1692
         },
         {
          "trials_count": 3,
          "year": 1693
         },
         {
          "trials_count": 3,
          "year": 1694
         },
         {
          "trials_count": 3,
          "year": 1695
         },
         {
          "trials_count": 3,
          "year": 1696
         },
         {
          "trials_count": 31,
          "year": 1697
         },
         {
          "trials_count": 12,
          "year": 1698
         },
         {
          "trials_count": 43,
          "year": 1699
         },
         {
          "trials_count": 33,
          "year": 1700
         },
         {
          "trials_count": 4,
          "year": 1701
         },
         {
          "trials_count": 4,
          "year": 1702
         },
         {
          "trials_count": 5,
          "year": 1703
         },
         {
          "trials_count": 13,
          "year": 1704
         },
         {
          "trials_count": 7,
          "year": 1705
         },
         {
          "trials_count": 5,
          "year": 1706
         },
         {
          "trials_count": 3,
          "year": 1707
         },
         {
          "trials_count": 7,
          "year": 1708
         },
         {
          "trials_count": 5,
          "year": 1709
         },
         {
          "trials_count": 1,
          "year": 1711
         },
         {
          "trials_count": 1,
          "year": 1712
         },
         {
          "trials_count": 1,
          "year": 1714
         },
         {
          "trials_count": 2,
          "year": 1715
         },
         {
          "trials_count": 1,
          "year": 1717
         },
         {
          "trials_count": 7,
          "year": 1719
         },
         {
          "trials_count": 2,
          "year": 1720
         },
         {
          "trials_count": 1,
          "year": 1723
         },
         {
          "trials_count": 1,
          "year": 1725
         },
         {
          "trials_count": 1,
          "year": 1726
         },
         {
          "trials_count": 1,
          "year": 1727
         },
         {
          "trials_count": 1,
          "year": 1732
         },
         {
          "trials_count": 1,
          "year": 1748
         }
        ]
       },
       "encoding": {
        "x": {
         "field": "year",
         "type": "quantitative"
        },
        "y": {
         "field": "trials_count",
         "type": "quantitative"
        }
       },
       "mark": "line",
       "title": {
        "text": "UK Witch Trials by year"
       }
      },
      "text/plain": [
       "<VegaLite 4 object>\n",
       "\n",
       "If you see this message, it means the renderer has not been properly enabled\n",
       "for the frontend that you are using. For more information, see\n",
       "https://altair-viz.github.io/user_guide/troubleshooting.html\n"
      ]
     },
     "execution_count": 36,
     "metadata": {},
     "output_type": "execute_result"
    }
   ],
   "source": [
    "# line chart by altair\n",
    "alt.Chart(trials_uk_by_year).mark_line().encode(\n",
    "    x=alt.X('year'),\n",
    "    y=alt.Y('trials_count'),\n",
    ").properties(\n",
    "    title={\n",
    "        'text': 'UK Witch Trials by year',\n",
    "    }\n",
    ")"
   ]
  },
  {
   "cell_type": "markdown",
   "metadata": {},
   "source": [
    "![UK Witch Trials by year](./img/uk_witch_trials_by_year.png)"
   ]
  },
  {
   "cell_type": "markdown",
   "metadata": {},
   "source": [
    "According to [wikipedia](https://en.wikipedia.org/wiki/Witch_trials_in_England), witch trials are known to have occurred in England during the Middle Ages but cases are few. It was not until the second half of the 16th century that a widescale witch hunt took place. Witch hunt in the UK was as its most intense stage during the English Civil War (1642–1651) and the Puritan era of the mid-17th century. King James had shown a great interest in witch trials since the Copenhagen witch trials in 1589, and when he succeeded to the English throne in 1603, he sharpened the English Witchcraft Act the following year."
   ]
  },
  {
   "cell_type": "code",
   "execution_count": 37,
   "metadata": {},
   "outputs": [],
   "source": [
    "# Group by gadm.adm1\n",
    "trials_uk_by_region = trials_uk.groupby([pd.Grouper(key='gadm.adm1')]).count()[['tried']].reset_index()\n",
    "\n",
    "# rename the columns\n",
    "trials_uk_by_region.columns = ['region', 'trials_count']"
   ]
  },
  {
   "cell_type": "code",
   "execution_count": 38,
   "metadata": {},
   "outputs": [
    {
     "name": "stderr",
     "output_type": "stream",
     "text": [
      "/Users/direwolfsummer/.pyenv/versions/3.9.4/envs/j233-files-3.9.4/lib/python3.9/site-packages/altair/utils/core.py:317: FutureWarning: iteritems is deprecated and will be removed in a future version. Use .items instead.\n",
      "  for col_name, dtype in df.dtypes.iteritems():\n"
     ]
    },
    {
     "data": {
      "application/vnd.vegalite.v4+json": {
       "$schema": "https://vega.github.io/schema/vega-lite/v4.17.0.json",
       "config": {
        "view": {
         "continuousHeight": 300,
         "continuousWidth": 400
        }
       },
       "data": {
        "name": "data-51059584ba7bfbc6905b3a85b03e3e5c"
       },
       "datasets": {
        "data-51059584ba7bfbc6905b3a85b03e3e5c": [
         {
          "region": "England",
          "trials_count": 619
         },
         {
          "region": "Northern Ireland",
          "trials_count": 2
         },
         {
          "region": "Scotland",
          "trials_count": 3129
         }
        ]
       },
       "encoding": {
        "x": {
         "field": "region",
         "type": "nominal"
        },
        "y": {
         "field": "trials_count",
         "type": "quantitative"
        }
       },
       "mark": "bar",
       "title": {
        "text": "UK Witch Trials by region"
       }
      },
      "text/plain": [
       "<VegaLite 4 object>\n",
       "\n",
       "If you see this message, it means the renderer has not been properly enabled\n",
       "for the frontend that you are using. For more information, see\n",
       "https://altair-viz.github.io/user_guide/troubleshooting.html\n"
      ]
     },
     "execution_count": 38,
     "metadata": {},
     "output_type": "execute_result"
    }
   ],
   "source": [
    "# bar chart by altair\n",
    "alt.Chart(trials_uk_by_region).mark_bar().encode(\n",
    "    x=alt.X('region'),\n",
    "    y=alt.Y('trials_count'),\n",
    ").properties(\n",
    "    title={\n",
    "        'text': 'UK Witch Trials by region',\n",
    "    }\n",
    ")"
   ]
  },
  {
   "cell_type": "markdown",
   "metadata": {},
   "source": [
    "![UK Witch Trials by Region](./img/uk_witch_trials_by_region.png)"
   ]
  },
  {
   "cell_type": "markdown",
   "metadata": {},
   "source": [
    "It seems that Scotland is the hotspot for witch trials in the UK. Let's take a closer look."
   ]
  },
  {
   "cell_type": "code",
   "execution_count": 39,
   "metadata": {},
   "outputs": [
    {
     "data": {
      "text/html": [
       "<div>\n",
       "<style scoped>\n",
       "    .dataframe tbody tr th:only-of-type {\n",
       "        vertical-align: middle;\n",
       "    }\n",
       "\n",
       "    .dataframe tbody tr th {\n",
       "        vertical-align: top;\n",
       "    }\n",
       "\n",
       "    .dataframe thead th {\n",
       "        text-align: right;\n",
       "    }\n",
       "</style>\n",
       "<table border=\"1\" class=\"dataframe\">\n",
       "  <thead>\n",
       "    <tr style=\"text-align: right;\">\n",
       "      <th></th>\n",
       "      <th>year</th>\n",
       "      <th>decade</th>\n",
       "      <th>century</th>\n",
       "      <th>tried</th>\n",
       "      <th>deaths</th>\n",
       "      <th>city</th>\n",
       "      <th>gadm.adm2</th>\n",
       "      <th>gadm.adm1</th>\n",
       "      <th>gadm.adm0</th>\n",
       "      <th>lon</th>\n",
       "      <th>lat</th>\n",
       "      <th>record.source</th>\n",
       "    </tr>\n",
       "  </thead>\n",
       "  <tbody>\n",
       "    <tr>\n",
       "      <th>4493</th>\n",
       "      <td>1649.0</td>\n",
       "      <td>1640</td>\n",
       "      <td>1600</td>\n",
       "      <td>48</td>\n",
       "      <td>NaN</td>\n",
       "      <td>NaN</td>\n",
       "      <td>NaN</td>\n",
       "      <td>Scotland</td>\n",
       "      <td>United Kingdom</td>\n",
       "      <td>NaN</td>\n",
       "      <td>NaN</td>\n",
       "      <td>Goodare et al. (2003)</td>\n",
       "    </tr>\n",
       "    <tr>\n",
       "      <th>5559</th>\n",
       "      <td>1661.0</td>\n",
       "      <td>1660</td>\n",
       "      <td>1600</td>\n",
       "      <td>15</td>\n",
       "      <td>NaN</td>\n",
       "      <td>NaN</td>\n",
       "      <td>NaN</td>\n",
       "      <td>Scotland</td>\n",
       "      <td>United Kingdom</td>\n",
       "      <td>NaN</td>\n",
       "      <td>NaN</td>\n",
       "      <td>Goodare et al. (2003)</td>\n",
       "    </tr>\n",
       "    <tr>\n",
       "      <th>4027</th>\n",
       "      <td>1649.0</td>\n",
       "      <td>1640</td>\n",
       "      <td>1600</td>\n",
       "      <td>15</td>\n",
       "      <td>NaN</td>\n",
       "      <td>NaN</td>\n",
       "      <td>NaN</td>\n",
       "      <td>Scotland</td>\n",
       "      <td>United Kingdom</td>\n",
       "      <td>NaN</td>\n",
       "      <td>NaN</td>\n",
       "      <td>Goodare et al. (2003)</td>\n",
       "    </tr>\n",
       "    <tr>\n",
       "      <th>4926</th>\n",
       "      <td>1650.0</td>\n",
       "      <td>1650</td>\n",
       "      <td>1600</td>\n",
       "      <td>12</td>\n",
       "      <td>NaN</td>\n",
       "      <td>NaN</td>\n",
       "      <td>NaN</td>\n",
       "      <td>Scotland</td>\n",
       "      <td>United Kingdom</td>\n",
       "      <td>NaN</td>\n",
       "      <td>NaN</td>\n",
       "      <td>Goodare et al. (2003)</td>\n",
       "    </tr>\n",
       "    <tr>\n",
       "      <th>4084</th>\n",
       "      <td>1649.0</td>\n",
       "      <td>1640</td>\n",
       "      <td>1600</td>\n",
       "      <td>12</td>\n",
       "      <td>NaN</td>\n",
       "      <td>NaN</td>\n",
       "      <td>NaN</td>\n",
       "      <td>Scotland</td>\n",
       "      <td>United Kingdom</td>\n",
       "      <td>NaN</td>\n",
       "      <td>NaN</td>\n",
       "      <td>Goodare et al. (2003)</td>\n",
       "    </tr>\n",
       "    <tr>\n",
       "      <th>...</th>\n",
       "      <td>...</td>\n",
       "      <td>...</td>\n",
       "      <td>...</td>\n",
       "      <td>...</td>\n",
       "      <td>...</td>\n",
       "      <td>...</td>\n",
       "      <td>...</td>\n",
       "      <td>...</td>\n",
       "      <td>...</td>\n",
       "      <td>...</td>\n",
       "      <td>...</td>\n",
       "      <td>...</td>\n",
       "    </tr>\n",
       "    <tr>\n",
       "      <th>3935</th>\n",
       "      <td>1636.0</td>\n",
       "      <td>1630</td>\n",
       "      <td>1600</td>\n",
       "      <td>1</td>\n",
       "      <td>0.0</td>\n",
       "      <td>NaN</td>\n",
       "      <td>East Lothian</td>\n",
       "      <td>Scotland</td>\n",
       "      <td>United Kingdom</td>\n",
       "      <td>NaN</td>\n",
       "      <td>NaN</td>\n",
       "      <td>Goodare et al. (2003)</td>\n",
       "    </tr>\n",
       "    <tr>\n",
       "      <th>3936</th>\n",
       "      <td>1636.0</td>\n",
       "      <td>1630</td>\n",
       "      <td>1600</td>\n",
       "      <td>1</td>\n",
       "      <td>0.0</td>\n",
       "      <td>NaN</td>\n",
       "      <td>East Lothian</td>\n",
       "      <td>Scotland</td>\n",
       "      <td>United Kingdom</td>\n",
       "      <td>NaN</td>\n",
       "      <td>NaN</td>\n",
       "      <td>Goodare et al. (2003)</td>\n",
       "    </tr>\n",
       "    <tr>\n",
       "      <th>3937</th>\n",
       "      <td>1636.0</td>\n",
       "      <td>1630</td>\n",
       "      <td>1600</td>\n",
       "      <td>1</td>\n",
       "      <td>0.0</td>\n",
       "      <td>NaN</td>\n",
       "      <td>Dumfries and Galloway</td>\n",
       "      <td>Scotland</td>\n",
       "      <td>United Kingdom</td>\n",
       "      <td>NaN</td>\n",
       "      <td>NaN</td>\n",
       "      <td>Goodare et al. (2003)</td>\n",
       "    </tr>\n",
       "    <tr>\n",
       "      <th>3938</th>\n",
       "      <td>1636.0</td>\n",
       "      <td>1630</td>\n",
       "      <td>1600</td>\n",
       "      <td>1</td>\n",
       "      <td>0.0</td>\n",
       "      <td>NaN</td>\n",
       "      <td>Highland</td>\n",
       "      <td>Scotland</td>\n",
       "      <td>United Kingdom</td>\n",
       "      <td>NaN</td>\n",
       "      <td>NaN</td>\n",
       "      <td>Goodare et al. (2003)</td>\n",
       "    </tr>\n",
       "    <tr>\n",
       "      <th>6580</th>\n",
       "      <td>1479.0</td>\n",
       "      <td>1470</td>\n",
       "      <td>1400</td>\n",
       "      <td>1</td>\n",
       "      <td>1.0</td>\n",
       "      <td>NaN</td>\n",
       "      <td>NaN</td>\n",
       "      <td>Scotland</td>\n",
       "      <td>United Kingdom</td>\n",
       "      <td>NaN</td>\n",
       "      <td>NaN</td>\n",
       "      <td>Kieckhefer (1976)</td>\n",
       "    </tr>\n",
       "  </tbody>\n",
       "</table>\n",
       "<p>3129 rows × 12 columns</p>\n",
       "</div>"
      ],
      "text/plain": [
       "        year  decade  century  tried  deaths city              gadm.adm2  \\\n",
       "4493  1649.0    1640     1600     48     NaN  NaN                    NaN   \n",
       "5559  1661.0    1660     1600     15     NaN  NaN                    NaN   \n",
       "4027  1649.0    1640     1600     15     NaN  NaN                    NaN   \n",
       "4926  1650.0    1650     1600     12     NaN  NaN                    NaN   \n",
       "4084  1649.0    1640     1600     12     NaN  NaN                    NaN   \n",
       "...      ...     ...      ...    ...     ...  ...                    ...   \n",
       "3935  1636.0    1630     1600      1     0.0  NaN           East Lothian   \n",
       "3936  1636.0    1630     1600      1     0.0  NaN           East Lothian   \n",
       "3937  1636.0    1630     1600      1     0.0  NaN  Dumfries and Galloway   \n",
       "3938  1636.0    1630     1600      1     0.0  NaN               Highland   \n",
       "6580  1479.0    1470     1400      1     1.0  NaN                    NaN   \n",
       "\n",
       "     gadm.adm1       gadm.adm0  lon  lat          record.source  \n",
       "4493  Scotland  United Kingdom  NaN  NaN  Goodare et al. (2003)  \n",
       "5559  Scotland  United Kingdom  NaN  NaN  Goodare et al. (2003)  \n",
       "4027  Scotland  United Kingdom  NaN  NaN  Goodare et al. (2003)  \n",
       "4926  Scotland  United Kingdom  NaN  NaN  Goodare et al. (2003)  \n",
       "4084  Scotland  United Kingdom  NaN  NaN  Goodare et al. (2003)  \n",
       "...        ...             ...  ...  ...                    ...  \n",
       "3935  Scotland  United Kingdom  NaN  NaN  Goodare et al. (2003)  \n",
       "3936  Scotland  United Kingdom  NaN  NaN  Goodare et al. (2003)  \n",
       "3937  Scotland  United Kingdom  NaN  NaN  Goodare et al. (2003)  \n",
       "3938  Scotland  United Kingdom  NaN  NaN  Goodare et al. (2003)  \n",
       "6580  Scotland  United Kingdom  NaN  NaN      Kieckhefer (1976)  \n",
       "\n",
       "[3129 rows x 12 columns]"
      ]
     },
     "execution_count": 39,
     "metadata": {},
     "output_type": "execute_result"
    }
   ],
   "source": [
    "trials_scotland = trials_clean.loc[trials_clean['gadm.adm1']=='Scotland']\n",
    "trials_scotland.sort_values(by=['tried'], ascending=False)"
   ]
  },
  {
   "cell_type": "markdown",
   "metadata": {},
   "source": [
    "What happened in 1649?"
   ]
  },
  {
   "cell_type": "markdown",
   "metadata": {},
   "source": [
    "Well, a series of witch trials happened during 1649–50 in Scotland, called The great Scottish witch hunt. It is one of five major hunts identified in early modern Scotland and it probably saw the most executions in a single year."
   ]
  },
  {
   "cell_type": "markdown",
   "metadata": {},
   "source": [
    "## Q3: Which country has the least witch trial cases in total?"
   ]
  },
  {
   "cell_type": "code",
   "execution_count": 40,
   "metadata": {},
   "outputs": [
    {
     "data": {
      "text/html": [
       "<div>\n",
       "<style scoped>\n",
       "    .dataframe tbody tr th:only-of-type {\n",
       "        vertical-align: middle;\n",
       "    }\n",
       "\n",
       "    .dataframe tbody tr th {\n",
       "        vertical-align: top;\n",
       "    }\n",
       "\n",
       "    .dataframe thead th {\n",
       "        text-align: right;\n",
       "    }\n",
       "</style>\n",
       "<table border=\"1\" class=\"dataframe\">\n",
       "  <thead>\n",
       "    <tr style=\"text-align: right;\">\n",
       "      <th></th>\n",
       "      <th>country</th>\n",
       "      <th>trials_count</th>\n",
       "    </tr>\n",
       "  </thead>\n",
       "  <tbody>\n",
       "    <tr>\n",
       "      <th>2</th>\n",
       "      <td>Czech Republic</td>\n",
       "      <td>1</td>\n",
       "    </tr>\n",
       "    <tr>\n",
       "      <th>9</th>\n",
       "      <td>Ireland</td>\n",
       "      <td>4</td>\n",
       "    </tr>\n",
       "    <tr>\n",
       "      <th>14</th>\n",
       "      <td>Poland</td>\n",
       "      <td>9</td>\n",
       "    </tr>\n",
       "    <tr>\n",
       "      <th>0</th>\n",
       "      <td>Austria</td>\n",
       "      <td>16</td>\n",
       "    </tr>\n",
       "    <tr>\n",
       "      <th>4</th>\n",
       "      <td>Estonia</td>\n",
       "      <td>17</td>\n",
       "    </tr>\n",
       "    <tr>\n",
       "      <th>5</th>\n",
       "      <td>Finland</td>\n",
       "      <td>17</td>\n",
       "    </tr>\n",
       "    <tr>\n",
       "      <th>11</th>\n",
       "      <td>Luxembourg</td>\n",
       "      <td>20</td>\n",
       "    </tr>\n",
       "    <tr>\n",
       "      <th>13</th>\n",
       "      <td>Norway</td>\n",
       "      <td>20</td>\n",
       "    </tr>\n",
       "    <tr>\n",
       "      <th>8</th>\n",
       "      <td>Hungary</td>\n",
       "      <td>26</td>\n",
       "    </tr>\n",
       "    <tr>\n",
       "      <th>15</th>\n",
       "      <td>Spain</td>\n",
       "      <td>29</td>\n",
       "    </tr>\n",
       "    <tr>\n",
       "      <th>3</th>\n",
       "      <td>Denmark</td>\n",
       "      <td>90</td>\n",
       "    </tr>\n",
       "    <tr>\n",
       "      <th>10</th>\n",
       "      <td>Italy</td>\n",
       "      <td>107</td>\n",
       "    </tr>\n",
       "    <tr>\n",
       "      <th>12</th>\n",
       "      <td>Netherlands</td>\n",
       "      <td>314</td>\n",
       "    </tr>\n",
       "    <tr>\n",
       "      <th>16</th>\n",
       "      <td>Sweden</td>\n",
       "      <td>353</td>\n",
       "    </tr>\n",
       "    <tr>\n",
       "      <th>1</th>\n",
       "      <td>Belgium</td>\n",
       "      <td>671</td>\n",
       "    </tr>\n",
       "    <tr>\n",
       "      <th>6</th>\n",
       "      <td>France</td>\n",
       "      <td>807</td>\n",
       "    </tr>\n",
       "    <tr>\n",
       "      <th>17</th>\n",
       "      <td>Switzerland</td>\n",
       "      <td>1272</td>\n",
       "    </tr>\n",
       "    <tr>\n",
       "      <th>7</th>\n",
       "      <td>Germany</td>\n",
       "      <td>3417</td>\n",
       "    </tr>\n",
       "    <tr>\n",
       "      <th>18</th>\n",
       "      <td>United Kingdom</td>\n",
       "      <td>3750</td>\n",
       "    </tr>\n",
       "  </tbody>\n",
       "</table>\n",
       "</div>"
      ],
      "text/plain": [
       "           country  trials_count\n",
       "2   Czech Republic             1\n",
       "9          Ireland             4\n",
       "14          Poland             9\n",
       "0          Austria            16\n",
       "4          Estonia            17\n",
       "5          Finland            17\n",
       "11      Luxembourg            20\n",
       "13          Norway            20\n",
       "8          Hungary            26\n",
       "15           Spain            29\n",
       "3          Denmark            90\n",
       "10           Italy           107\n",
       "12     Netherlands           314\n",
       "16          Sweden           353\n",
       "1          Belgium           671\n",
       "6           France           807\n",
       "17     Switzerland          1272\n",
       "7          Germany          3417\n",
       "18  United Kingdom          3750"
      ]
     },
     "execution_count": 40,
     "metadata": {},
     "output_type": "execute_result"
    }
   ],
   "source": [
    "# sort the dataframe by value\n",
    "trials_by_country.sort_values(by='trials_count')"
   ]
  },
  {
   "cell_type": "markdown",
   "metadata": {},
   "source": [
    "It seems that Czech Republic, Ireland, and Poland are among the countries that saw the least witch trials activity during that time period."
   ]
  }
 ],
 "metadata": {
  "kernelspec": {
   "display_name": "Python 3.9.4 64-bit ('j233-files-3.9.4')",
   "language": "python",
   "name": "python3"
  },
  "language_info": {
   "codemirror_mode": {
    "name": "ipython",
    "version": 3
   },
   "file_extension": ".py",
   "mimetype": "text/x-python",
   "name": "python",
   "nbconvert_exporter": "python",
   "pygments_lexer": "ipython3",
   "version": "3.9.4"
  },
  "orig_nbformat": 4,
  "vscode": {
   "interpreter": {
    "hash": "784dc3cf99b8e531ca85643c898e157aa72443501a2f46bfcc61c88eb6b7abee"
   }
  }
 },
 "nbformat": 4,
 "nbformat_minor": 2
}
